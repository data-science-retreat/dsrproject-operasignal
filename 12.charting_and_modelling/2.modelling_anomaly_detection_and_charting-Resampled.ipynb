{
 "cells": [
  {
   "cell_type": "code",
   "execution_count": 735,
   "metadata": {
    "ExecuteTime": {
     "end_time": "2016-12-15T06:28:25.099642",
     "start_time": "2016-12-15T06:28:25.092181"
    },
    "collapsed": false
   },
   "outputs": [],
   "source": [
    "import pandas as pd\n",
    "import numpy as np\n",
    "import _pickle\n",
    "from os.path import join\n",
    "import matplotlib.pyplot as plt\n",
    "from tqdm import tqdm, tqdm_notebook\n",
    "import xgboost as xgb\n",
    "from ggplot import *"
   ]
  },
  {
   "cell_type": "code",
   "execution_count": 3,
   "metadata": {
    "ExecuteTime": {
     "end_time": "2016-12-15T00:19:51.891059",
     "start_time": "2016-12-15T00:19:51.888193"
    },
    "collapsed": true
   },
   "outputs": [],
   "source": [
    "from sklearn.model_selection import train_test_split, GridSearchCV"
   ]
  },
  {
   "cell_type": "code",
   "execution_count": 727,
   "metadata": {
    "ExecuteTime": {
     "end_time": "2016-12-15T06:23:24.622200",
     "start_time": "2016-12-15T06:23:24.613970"
    },
    "collapsed": false
   },
   "outputs": [],
   "source": [
    "from sklearn.ensemble import RandomForestClassifier, ExtraTreesClassifier, BaggingClassifier, AdaBoostClassifier,\\\n",
    "GradientBoostingClassifier, VotingClassifier\n",
    "from sklearn.linear_model import LogisticRegression, SGDClassifier\n",
    "from sklearn.neural_network import MLPClassifier\n",
    "from sklearn.naive_bayes import GaussianNB\n",
    "from sklearn import svm\n",
    "from sklearn import preprocessing\n",
    "from sklearn.metrics import accuracy_score, roc_auc_score,roc_curve, auc\n",
    "from sklearn.neighbors import KNeighborsClassifier\n",
    "from sklearn import tree\n",
    "from sklearn.feature_selection import SelectFromModel\n",
    "from sklearn.decomposition import PCA\n",
    "from sklearn import metrics"
   ]
  },
  {
   "cell_type": "code",
   "execution_count": 93,
   "metadata": {
    "ExecuteTime": {
     "end_time": "2016-12-15T00:59:18.527813",
     "start_time": "2016-12-15T00:59:18.523029"
    },
    "collapsed": false
   },
   "outputs": [],
   "source": [
    "from imblearn.over_sampling import SMOTE, ADASYN, RandomOverSampler\n",
    "from imblearn.combine import SMOTEENN, SMOTETomek\n",
    "from imblearn.under_sampling import NearMiss, TomekLinks,\\\n",
    "ClusterCentroids,OneSidedSelection,RandomUnderSampler,\\\n",
    "EditedNearestNeighbours,NeighbourhoodCleaningRule,\\\n",
    "CondensedNearestNeighbour,InstanceHardnessThreshold,\\\n",
    "RepeatedEditedNearestNeighbours"
   ]
  },
  {
   "cell_type": "code",
   "execution_count": 460,
   "metadata": {
    "ExecuteTime": {
     "end_time": "2016-12-15T03:42:38.622528",
     "start_time": "2016-12-15T03:42:38.620141"
    },
    "collapsed": true
   },
   "outputs": [],
   "source": [
    "from sklearn.model_selection import GridSearchCV"
   ]
  },
  {
   "cell_type": "markdown",
   "metadata": {},
   "source": [
    "# 1. Load dataframe and variables"
   ]
  },
  {
   "cell_type": "code",
   "execution_count": 411,
   "metadata": {
    "ExecuteTime": {
     "end_time": "2016-12-15T03:35:24.102159",
     "start_time": "2016-12-15T03:35:21.597699"
    },
    "collapsed": false
   },
   "outputs": [],
   "source": [
    "inputfile_path = join('/Users','Toavina','githubdata','12.charting_and_modelling','1.pickles','merged_df_concat.pkl')\n",
    "\n",
    "agg_df = _pickle.load(open(inputfile_path,'rb'))\n",
    "\n",
    "%matplotlib inline\n",
    "plt.style.use('ggplot')\n",
    "\n",
    "pd.options.display.max_columns = 200"
   ]
  },
  {
   "cell_type": "markdown",
   "metadata": {
    "ExecuteTime": {
     "end_time": "2016-12-13T20:16:53.132732",
     "start_time": "2016-12-13T20:16:53.040719"
    }
   },
   "source": [
    "# 2. Create Moving Average and Signals to Detect Anomalies"
   ]
  },
  {
   "cell_type": "code",
   "execution_count": null,
   "metadata": {
    "ExecuteTime": {
     "end_time": "2016-12-14T22:54:22.124327",
     "start_time": "2016-12-14T21:54:08.885Z"
    },
    "collapsed": false
   },
   "outputs": [],
   "source": [
    "# for each in all_dfs[0].columns:\n",
    "#     print(each)\n",
    "\n",
    "users = agg_df.columns.levels[0]\n",
    "\n",
    "all_dfs = [agg_df[users[i]] for i in range(len(users))]\n",
    "\n",
    "for df in tqdm_notebook(all_dfs):\n",
    "    df['EWMA_6'] = df['AggEventsWeighted'].ewm(span=6).mean()\n",
    "    df['EWMA_3'] = df['AggEventsWeighted'].ewm(span=3).mean()\n",
    "    df['diff_6'] = df['AggEventsWeighted'] - df['EWMA_6']\n",
    "    df['diff_3'] = df['AggEventsWeighted'] - df['EWMA_3']\n",
    "    df['perc_diff_3'] = df['diff_3'] / df['EWMA_3']\n",
    "    df['perc_diff_6'] = df['diff_6'] / df['EWMA_6']\n",
    "\n",
    "for df in tqdm_notebook(all_dfs):\n",
    "    \n",
    "#     EWMA3_Threshold_80 = 0.8\n",
    "    EWMA6_Threshold_80 = 0.8\n",
    "      \n",
    "#     df['EWMA_3_Signal'] = 0\n",
    "    df['EWMA_6_Signal'] = 0\n",
    "    \n",
    "    for j in range(len(df)):\n",
    "    \n",
    "#         if df.ix[j,'perc_diff_3'] > EWMA3_Threshold_80:\n",
    "#             df.ix[j,'EWMA_3_Signal'] = 1\n",
    "\n",
    "        if df.ix[j,'perc_diff_6'] > EWMA6_Threshold_80:\n",
    "            df.ix[j,'EWMA_6_Signal'] = 1"
   ]
  },
  {
   "cell_type": "markdown",
   "metadata": {},
   "source": [
    "# Charting"
   ]
  },
  {
   "cell_type": "code",
   "execution_count": null,
   "metadata": {
    "ExecuteTime": {
     "end_time": "2016-12-14T22:59:36.972526",
     "start_time": "2016-12-14T22:59:36.911445"
    },
    "collapsed": false
   },
   "outputs": [],
   "source": [
    "def plot_events(usernum):\n",
    "    \n",
    "    df = all_dfs[usernum]\n",
    "    \n",
    "    min_date = df.index.tolist()[0]\n",
    "    \n",
    "    gh_username = df['InferredGHUserCopy'][0]\n",
    "    \n",
    "    hn_post_dates = all_dfs[usernum][all_dfs[usernum]['HNPosts'] == 1].index.tolist()\n",
    "    new_job_dates = all_dfs[usernum][all_dfs[usernum]['NewJobFlag'] == 1].index.tolist()\n",
    "    end_job_dates = all_dfs[usernum][all_dfs[usernum]['EndJobFlag'] == 1].index.tolist()\n",
    "    new_edu_dates = all_dfs[usernum][all_dfs[usernum]['StartEduFlag'] == 1].index.tolist()\n",
    "    end_edu_dates = all_dfs[usernum][all_dfs[usernum]['EndEduFlag'] == 1].index.tolist()\n",
    "    \n",
    "    gh_events_series = df['AggEventsWeighted']\n",
    "    \n",
    "#     EWMA_3 = df['EWMA_3']\n",
    "    EWMA_6 = df['EWMA_6']\n",
    "    \n",
    "    GH_created_date = all_dfs[usernum]['GHAcctCreatedAt'][0] + pd.offsets.MonthEnd(0, normalize=True)\n",
    "    \n",
    "    try:\n",
    "        plt.axvline(new_edu_dates[0], label = 'New Education')\n",
    "        [plt.axvline(_x, color='b') for _x in new_edu_dates]\n",
    "    except:\n",
    "        pass\n",
    "    \n",
    "    try:\n",
    "        plt.axvline(end_edu_dates[0], label = 'Ended Education')\n",
    "        [plt.axvline(_x) for _x in end_edu_dates]\n",
    "    except:\n",
    "        pass\n",
    "        \n",
    "    \n",
    "    try:\n",
    "        plt.axvline(hn_post_dates[0], color='b', label = 'HN Job Post')\n",
    "        [plt.axvline(_x, color='b') for _x in hn_post_dates]\n",
    "    except:\n",
    "        pass\n",
    "    \n",
    "    if GH_created_date > min_date:\n",
    "        plt.axvline(GH_created_date, color ='y', label = 'Date GH account created')\n",
    "    \n",
    "    try:\n",
    "        plt.axvline(end_job_dates[0], label = 'Ended Job')\n",
    "        [plt.axvline(_x) for _x in end_job_dates]\n",
    "    except:\n",
    "        pass\n",
    "    \n",
    "    try:\n",
    "        plt.axvline(new_job_dates[0], color='g', label = 'New Job')\n",
    "        [plt.axvline(_x, color='g') for _x in new_job_dates]\n",
    "    except:\n",
    "        pass\n",
    "    \n",
    "    gh_events_series.plot(label = \"Github Activity (# Events)\")\n",
    "#     EWMA_3.plot(label = \"GH Activity EMA_3\")\n",
    "    EWMA_6.plot(label = \"GH Activity EMA_6\")\n",
    "    \n",
    "    plt.legend(bbox_to_anchor=(1.25,0.5), loc = 'lower center', fontsize='small', ncol=1)\n",
    "    "
   ]
  },
  {
   "cell_type": "code",
   "execution_count": null,
   "metadata": {
    "ExecuteTime": {
     "end_time": "2016-12-14T22:59:39.561636",
     "start_time": "2016-12-14T22:59:39.184409"
    },
    "collapsed": false
   },
   "outputs": [],
   "source": [
    "plot_events(7)"
   ]
  },
  {
   "cell_type": "markdown",
   "metadata": {},
   "source": [
    "# Model 1 - Predicting whether someone will switch jobs or not in next 3 / 6 months"
   ]
  },
  {
   "cell_type": "code",
   "execution_count": null,
   "metadata": {
    "ExecuteTime": {
     "end_time": "2016-12-13T23:26:14.357305",
     "start_time": "2016-12-13T23:26:14.353774"
    },
    "collapsed": true
   },
   "outputs": [],
   "source": [
    "# Create a column that returns 1 if job within the next 3-6 months, 0 if not\n",
    "# One Hot Encode Relevant Columns, select the relevant ones, and run a RF on it to see baseline results\n",
    "# Try both 3 and 6 months. When works, see if can create pipeline, do a grid search and run SVM, Linear Regression ...\n",
    "\n",
    "# Model 2 - Same as above, but qualifying signals as good or bad\n",
    "\n",
    "# Model 3 - TBD - Create a points system with my knowledge to qualify each signal, see whether machine can find it\n",
    "\n",
    "# Model 4 - Unlikely - Using points system, score each item and see results versus the machine as to what is a good\n",
    "# prospect"
   ]
  },
  {
   "cell_type": "code",
   "execution_count": null,
   "metadata": {
    "ExecuteTime": {
     "end_time": "2016-12-14T00:34:50.007005",
     "start_time": "2016-12-14T00:34:49.977011"
    },
    "collapsed": false
   },
   "outputs": [],
   "source": [
    "def look_fwd_3mo(df,postcolname,newjobcolname):\n",
    "    \n",
    "    df['lf_3_job_seeking'] = 0\n",
    "    \n",
    "    rows_remaining = len(df)\n",
    "    \n",
    "    dates = df.index\n",
    "    \n",
    "    for date in dates:\n",
    "        rows_remaining -= 1\n",
    "        if rows_remaining >= 3:\n",
    "            items_to_check = [df.ix[date,postcolname],\n",
    "                              df.ix[date+1,postcolname],\n",
    "                              df.ix[date+2,postcolname],\n",
    "                              df.ix[date+3,postcolname],\n",
    "                              df.ix[date,newjobcolname],\n",
    "                              df.ix[date+1,newjobcolname],\n",
    "                              df.ix[date+2,newjobcolname],\n",
    "                              df.ix[date+3,newjobcolname]\n",
    "                             ]\n",
    "        elif rows_remaining == 2:\n",
    "            items_to_check = [df.ix[date,postcolname],\n",
    "                              df.ix[date+1,postcolname],\n",
    "                              df.ix[date+2,postcolname],\n",
    "                              df.ix[date,newjobcolname],\n",
    "                              df.ix[date+1,newjobcolname],\n",
    "                              df.ix[date+2,newjobcolname]\n",
    "                             ]\n",
    "        elif rows_remaining == 1:\n",
    "            items_to_check = [df.ix[date,postcolname],\n",
    "                              df.ix[date+1,postcolname],\n",
    "                              df.ix[date,newjobcolname],\n",
    "                              df.ix[date+1,newjobcolname]\n",
    "                             ]\n",
    "        elif rows_remaining == 0:\n",
    "            items_to_check = [df.ix[date,postcolname],\n",
    "                              df.ix[date,newjobcolname]\n",
    "                             ]\n",
    "            \n",
    "        stat_var = 0\n",
    "\n",
    "        for item in items_to_check:\n",
    "            if item == 1:\n",
    "                stat_var = 1\n",
    "        df.ix[date,'lf_3_job_seeking'] = stat_var\n",
    "                                      \n",
    "    return df\n",
    "\n",
    "for df in tqdm_notebook(all_dfs):\n",
    "    df = look_fwd_3mo(df,'HNPosts','NewJobFlag')"
   ]
  },
  {
   "cell_type": "code",
   "execution_count": null,
   "metadata": {
    "ExecuteTime": {
     "end_time": "2016-12-14T01:23:52.672290",
     "start_time": "2016-12-14T01:23:51.312480"
    },
    "collapsed": false
   },
   "outputs": [],
   "source": [
    "# _pickle.dump(all_dfs,open('all_dfs.pkl','wb'))"
   ]
  },
  {
   "cell_type": "markdown",
   "metadata": {},
   "source": [
    "# Loading the model"
   ]
  },
  {
   "cell_type": "code",
   "execution_count": 694,
   "metadata": {
    "ExecuteTime": {
     "end_time": "2016-12-15T06:03:27.844583",
     "start_time": "2016-12-15T06:03:25.661769"
    },
    "collapsed": false
   },
   "outputs": [],
   "source": [
    "all_dfs = _pickle.load(open('all_dfs.pkl','rb'))"
   ]
  },
  {
   "cell_type": "code",
   "execution_count": 695,
   "metadata": {
    "ExecuteTime": {
     "end_time": "2016-12-15T06:03:35.951966",
     "start_time": "2016-12-15T06:03:27.846104"
    },
    "collapsed": false
   },
   "outputs": [
    {
     "name": "stdout",
     "output_type": "stream",
     "text": [
      "The percentage of positive classifications is 0\n"
     ]
    }
   ],
   "source": [
    "all_obs = pd.concat(all_dfs, axis=0)\n",
    "\n",
    "LinkedInOnly = all_obs[pd.notnull(all_obs['LinkedInName'])]\n",
    "\n",
    "percentpos = LinkedInOnly['lf_3_job_seeking'].sum()/LinkedInOnly.shape[0]\n",
    "print('The percentage of positive classifications is {0:.0f}'.format(percentpos))"
   ]
  },
  {
   "cell_type": "markdown",
   "metadata": {},
   "source": [
    "# Separating X and Y, One Hot Encoding..."
   ]
  },
  {
   "cell_type": "code",
   "execution_count": 696,
   "metadata": {
    "ExecuteTime": {
     "end_time": "2016-12-15T06:03:35.979465",
     "start_time": "2016-12-15T06:03:35.953866"
    },
    "collapsed": false
   },
   "outputs": [],
   "source": [
    "x = LinkedInOnly[['AggEventsEqual','AggEventsWeighted',\n",
    "              'JobExpInstitutionType0','JobExpTitleType0',\n",
    "              'JobExpInstitutionType1','JobExpTitleType1',\n",
    "              'JobExpInstitutionType2','JobExpTitleType2',\n",
    "              'JobExpInstitutionType3','JobExpTitleType3',\n",
    "              'JobExpInstitutionType4','JobExpTitleType4',\n",
    "              'JobExpInstitutionType5','JobExpTitleType5',\n",
    "              'EduExpInstitutionType0','EduExpTitleType0',\n",
    "              'EduExpInstitutionType1','EduExpTitleType1',\n",
    "              'EduExpInstitutionType2','EduExpTitleType2',\n",
    "              'EduExpInstitutionType3','EduExpTitleType3',\n",
    "              'EduExpInstitutionType4','EduExpTitleType4',\n",
    "#               'JobExpCurrentTenure0','JobExpCurrentTenure1','JobExpCurrentTenure2',\n",
    "#               'JobExpCurrentTenure3','JobExpCurrentTenure4','JobExpCurrentTenure5',\n",
    "              'NumCurrentJobs','NumCurrentEdu','NumCurrentJobsAndEdu','EmploymentStatus','NEET',\n",
    "              'EndJobFlag','StartEduFlag','EndEduFlag','CumJobsToDate','CumEduToDate',\n",
    "              'HighestDegree','HighestInstitutionType',\n",
    "#             'HighestDegreeTimeSinceStartDate','HighestDegreeTimeSinceEndDate',\n",
    "              'RecentJob',\n",
    "              'RecentJobInstitutionType',\n",
    "#               'RecentJobTimeSinceStartDate','RecentJobTimeSinceEndDate',\n",
    "              'GHFollowers','GHFollowing',\n",
    "#                   'GHHireable',      # Note - Removed because issues with setting to False if nothing\n",
    "                  'PublicGists','PublicRepos','EWMA_6','EWMA_3','diff_6','diff_3',\n",
    "              'EWMA_3_Signal','EWMA_6_Signal'\n",
    "             ]]"
   ]
  },
  {
   "cell_type": "code",
   "execution_count": 697,
   "metadata": {
    "ExecuteTime": {
     "end_time": "2016-12-15T06:03:35.996911",
     "start_time": "2016-12-15T06:03:35.981387"
    },
    "collapsed": false
   },
   "outputs": [],
   "source": [
    "y = LinkedInOnly['lf_3_job_seeking']\n",
    "x = x.reset_index()\n",
    "y = y.reset_index()"
   ]
  },
  {
   "cell_type": "code",
   "execution_count": 698,
   "metadata": {
    "ExecuteTime": {
     "end_time": "2016-12-15T06:03:36.077475",
     "start_time": "2016-12-15T06:03:35.998783"
    },
    "collapsed": false
   },
   "outputs": [],
   "source": [
    "x[[col for col in x.columns if 'JobExpInstitutionType' in col]] = \\\n",
    "x[[col for col in x.columns if 'JobExpInstitutionType' in col]].fillna('none')\n",
    "\n",
    "x[[col for col in x.columns if 'JobExpTitleType' in col]] = \\\n",
    "x[[col for col in x.columns if 'JobExpTitleType' in col]].fillna('none')\n",
    "\n",
    "x[[col for col in x.columns if 'EduExpInstitutionType' in col]] = \\\n",
    "x[[col for col in x.columns if 'EduExpInstitutionType' in col]].fillna('none')\n",
    "\n",
    "x[[col for col in x.columns if 'EduExpTitleType' in col]] = \\\n",
    "x[[col for col in x.columns if 'EduExpTitleType' in col]].fillna('none')\n",
    "\n",
    "x[[col for col in x.columns if 'NumCurrent' in col]] = \\\n",
    "x[[col for col in x.columns if 'NumCurrent' in col]].fillna(0)"
   ]
  },
  {
   "cell_type": "code",
   "execution_count": 699,
   "metadata": {
    "ExecuteTime": {
     "end_time": "2016-12-15T06:03:36.253017",
     "start_time": "2016-12-15T06:03:36.079310"
    },
    "collapsed": false
   },
   "outputs": [],
   "source": [
    "jobexpdummies = pd.concat([pd.get_dummies(x['JobExpInstitutionType{}'.format(str(i))], \n",
    "                prefix='JobExpInstitutionType{}'.format(str(i))) for i in range(6)], axis=1)\n",
    "\n",
    "jobexptitledummies = pd.concat([pd.get_dummies(x['JobExpTitleType{}'.format(str(i))], \n",
    "                prefix='JobExpTitleType{}'.format(str(i))) for i in range(6)], axis=1)\n",
    "\n",
    "eduexpdummies = pd.concat([pd.get_dummies(x['EduExpInstitutionType{}'.format(str(i))], \n",
    "                prefix='EduExpInstitutionType{}'.format(str(i))) for i in range(5)], axis=1)\n",
    "\n",
    "eduexptitledummies = pd.concat([pd.get_dummies(x['EduExpTitleType{}'.format(str(i))], \n",
    "                prefix='EduExpTitleType{}'.format(str(i))) for i in range(5)], axis=1)\n",
    "\n",
    "\n",
    "degreedummies = pd.get_dummies(x['HighestDegree'], prefix='HighestDegree')\n",
    "\n",
    "highestintitutiontypedummies = pd.get_dummies(x['HighestInstitutionType'], prefix='HighestInstitutionType')\n",
    "\n",
    "recentjobdummies = pd.get_dummies(x['RecentJob'], prefix = 'RecentJob')\n",
    "recentjobinstitutiontype = pd.get_dummies(x['RecentJobInstitutionType'], prefix='RecentJobInstitutionType')\n",
    "\n",
    "x = pd.concat([x,jobexpdummies,jobexptitledummies,eduexpdummies,eduexptitledummies,degreedummies,\n",
    "          highestintitutiontypedummies,recentjobdummies,recentjobinstitutiontype], axis=1)"
   ]
  },
  {
   "cell_type": "code",
   "execution_count": 700,
   "metadata": {
    "ExecuteTime": {
     "end_time": "2016-12-15T06:03:36.350924",
     "start_time": "2016-12-15T06:03:36.254663"
    },
    "collapsed": false
   },
   "outputs": [],
   "source": [
    "x = x.drop([\n",
    "'index',\n",
    "'JobExpInstitutionType0',\n",
    "'JobExpTitleType0',\n",
    "'JobExpInstitutionType1',\n",
    "'JobExpTitleType1',\n",
    "'JobExpInstitutionType2',\n",
    "'JobExpTitleType2',\n",
    "'JobExpInstitutionType3',\n",
    "'JobExpTitleType3',\n",
    "'JobExpInstitutionType4',\n",
    "'JobExpTitleType4',\n",
    "'JobExpInstitutionType5',\n",
    "'JobExpTitleType5',\n",
    "'EduExpInstitutionType0',\n",
    "'EduExpTitleType0',\n",
    "'EduExpInstitutionType1',\n",
    "'EduExpTitleType1',\n",
    "'EduExpInstitutionType2',\n",
    "'EduExpTitleType2',\n",
    "'EduExpInstitutionType3',\n",
    "'EduExpTitleType3',\n",
    "'EduExpInstitutionType4',\n",
    "'EduExpTitleType4',\n",
    "'HighestDegree',\n",
    "'HighestInstitutionType',\n",
    "'RecentJob',\n",
    "'RecentJobInstitutionType'   \n",
    "        ], axis=1)"
   ]
  },
  {
   "cell_type": "code",
   "execution_count": 701,
   "metadata": {
    "ExecuteTime": {
     "end_time": "2016-12-15T06:03:36.356755",
     "start_time": "2016-12-15T06:03:36.352490"
    },
    "collapsed": true
   },
   "outputs": [],
   "source": [
    "y = y.drop('index',axis=1)"
   ]
  },
  {
   "cell_type": "markdown",
   "metadata": {},
   "source": [
    "# Creating test and train sets"
   ]
  },
  {
   "cell_type": "code",
   "execution_count": 702,
   "metadata": {
    "ExecuteTime": {
     "end_time": "2016-12-15T06:03:36.361779",
     "start_time": "2016-12-15T06:03:36.358660"
    },
    "collapsed": false
   },
   "outputs": [],
   "source": [
    "y = np.array(y)\n",
    "\n",
    "y = y.reshape(y.shape[0],)"
   ]
  },
  {
   "cell_type": "code",
   "execution_count": 703,
   "metadata": {
    "ExecuteTime": {
     "end_time": "2016-12-15T06:03:36.365857",
     "start_time": "2016-12-15T06:03:36.363579"
    },
    "collapsed": true
   },
   "outputs": [],
   "source": [
    "# Testing Tree Based feature selection"
   ]
  },
  {
   "cell_type": "code",
   "execution_count": 704,
   "metadata": {
    "ExecuteTime": {
     "end_time": "2016-12-15T06:03:36.370464",
     "start_time": "2016-12-15T06:03:36.367756"
    },
    "collapsed": false
   },
   "outputs": [],
   "source": [
    "# clf = RandomForestClassifier()\n",
    "# clf = clf.fit(x,y)\n",
    "# model = SelectFromModel(clf, prefit=True)\n",
    "# X_new = model.transform(x)"
   ]
  },
  {
   "cell_type": "code",
   "execution_count": 705,
   "metadata": {
    "ExecuteTime": {
     "end_time": "2016-12-15T06:03:37.406796",
     "start_time": "2016-12-15T06:03:36.372295"
    },
    "collapsed": false
   },
   "outputs": [],
   "source": [
    "pca = PCA(n_components=22)\n",
    "pca.fit(x)\n",
    "x = pca.transform(x)"
   ]
  },
  {
   "cell_type": "code",
   "execution_count": 706,
   "metadata": {
    "ExecuteTime": {
     "end_time": "2016-12-15T06:03:37.411218",
     "start_time": "2016-12-15T06:03:37.408515"
    },
    "collapsed": false
   },
   "outputs": [],
   "source": [
    "# var1 = np.cumsum(np.round(pca.explained_variance_ratio_,decimals=4)*100)"
   ]
  },
  {
   "cell_type": "code",
   "execution_count": 707,
   "metadata": {
    "ExecuteTime": {
     "end_time": "2016-12-15T06:03:37.421068",
     "start_time": "2016-12-15T06:03:37.413645"
    },
    "collapsed": false
   },
   "outputs": [],
   "source": [
    "# print(var1)"
   ]
  },
  {
   "cell_type": "code",
   "execution_count": 708,
   "metadata": {
    "ExecuteTime": {
     "end_time": "2016-12-15T06:03:37.426271",
     "start_time": "2016-12-15T06:03:37.423565"
    },
    "collapsed": false
   },
   "outputs": [],
   "source": [
    "# plt.plot(var1)"
   ]
  },
  {
   "cell_type": "code",
   "execution_count": 709,
   "metadata": {
    "ExecuteTime": {
     "end_time": "2016-12-15T06:03:38.650730",
     "start_time": "2016-12-15T06:03:37.428693"
    },
    "collapsed": false
   },
   "outputs": [],
   "source": [
    "X_train, X_test, y_train, y_test = train_test_split(x, y, test_size=0.3, random_state = 666)\n",
    "# X_train, X_test, y_train, y_test = train_test_split(X_new, y, test_size=0.3, random_state = 666)\n",
    "\n",
    "\n",
    "scaler = preprocessing.StandardScaler().fit(X_train)\n",
    "X_train = scaler.transform(X_train)\n",
    "X_test = scaler.transform(X_test)\n",
    "\n",
    "y_train = np.array(y_train)\n",
    "y_test = np.array(y_test)\n",
    "\n",
    "y_train = y_train.reshape(y_train.shape[0],)\n",
    "y_test = y_test.reshape(y_test.shape[0],)\n",
    "\n",
    "sm = SMOTETomek()\n",
    "X_train, y_train = sm.fit_sample(X_train, y_train)"
   ]
  },
  {
   "cell_type": "code",
   "execution_count": 710,
   "metadata": {
    "ExecuteTime": {
     "end_time": "2016-12-15T06:03:38.656465",
     "start_time": "2016-12-15T06:03:38.652466"
    },
    "collapsed": false
   },
   "outputs": [
    {
     "data": {
      "text/plain": [
       "0.50782190132370641"
      ]
     },
     "execution_count": 710,
     "metadata": {},
     "output_type": "execute_result"
    }
   ],
   "source": [
    "1- (y_train.sum()/y_train.shape[0])"
   ]
  },
  {
   "cell_type": "code",
   "execution_count": 711,
   "metadata": {
    "ExecuteTime": {
     "end_time": "2016-12-15T06:03:38.662352",
     "start_time": "2016-12-15T06:03:38.658337"
    },
    "collapsed": false
   },
   "outputs": [
    {
     "data": {
      "text/plain": [
       "0.73582337819446542"
      ]
     },
     "execution_count": 711,
     "metadata": {},
     "output_type": "execute_result"
    }
   ],
   "source": [
    "1- (y_test.sum()/y_test.shape[0])"
   ]
  },
  {
   "cell_type": "markdown",
   "metadata": {
    "ExecuteTime": {
     "end_time": "2016-12-14T11:35:03.019593",
     "start_time": "2016-12-14T11:35:03.016980"
    }
   },
   "source": [
    "## 1. Random Forest"
   ]
  },
  {
   "cell_type": "code",
   "execution_count": 798,
   "metadata": {
    "ExecuteTime": {
     "end_time": "2016-12-15T07:09:06.687932",
     "start_time": "2016-12-15T07:08:32.877151"
    },
    "collapsed": false
   },
   "outputs": [
    {
     "name": "stdout",
     "output_type": "stream",
     "text": [
      "0.766974141842 0.785916659197\n"
     ]
    }
   ],
   "source": [
    "rf=RandomForestClassifier(n_jobs = 7, max_features=5,n_estimators=1000)\n",
    "\n",
    "rf.fit(X_train,y_train)\n",
    "\n",
    "y_pred = rf.predict(X_test)\n",
    "y_pred_proba = rf.predict_proba(X_test)\n",
    "\n",
    "y_true = y_test\n",
    "\n",
    "print(accuracy_score(y_true, y_pred),roc_auc_score(y_true, y_pred_proba[:,1]))"
   ]
  },
  {
   "cell_type": "markdown",
   "metadata": {},
   "source": [
    "## 2. XGBoost"
   ]
  },
  {
   "cell_type": "code",
   "execution_count": 713,
   "metadata": {
    "ExecuteTime": {
     "end_time": "2016-12-15T06:03:38.672790",
     "start_time": "2016-12-15T06:03:38.669721"
    },
    "collapsed": false
   },
   "outputs": [],
   "source": [
    "# XGBModel = xgb.XGBClassifier(n_estimators=1000, max_depth=10)\n",
    "\n",
    "# XGBModel.fit(X_train,y_train)\n",
    "\n",
    "# XGBpreds = XGBModel.predict(X_test)\n",
    "\n",
    "# print(accuracy_score(y_true,XGBpreds),roc_auc_score(y_true,XGBpreds))"
   ]
  },
  {
   "cell_type": "markdown",
   "metadata": {},
   "source": [
    "# 5. Extra Trees Classifier"
   ]
  },
  {
   "cell_type": "code",
   "execution_count": 833,
   "metadata": {
    "ExecuteTime": {
     "end_time": "2016-12-15T07:31:07.296996",
     "start_time": "2016-12-15T07:30:56.055875"
    },
    "collapsed": false
   },
   "outputs": [
    {
     "name": "stdout",
     "output_type": "stream",
     "text": [
      "0.79570856128\n"
     ]
    }
   ],
   "source": [
    "Xtrees = ExtraTreesClassifier(n_jobs=7, \n",
    "                              n_estimators=1000, \n",
    "                              max_features=5,\n",
    "                             min_samples_split=3, \n",
    "                              criterion='entropy',\n",
    "                              random_state=123\n",
    "                             )\n",
    "\n",
    "Xtrees.fit(X_train,y_train)\n",
    "\n",
    "XtreePred_proba = Xtrees.predict_proba(X_test)\n",
    "XtreePreds = Xtrees.predict(X_test)\n",
    "\n",
    "print(roc_auc_score(y_test,XtreePred_proba[:,1], average='weighted'))"
   ]
  },
  {
   "cell_type": "code",
   "execution_count": 834,
   "metadata": {
    "ExecuteTime": {
     "end_time": "2016-12-15T07:31:07.302605",
     "start_time": "2016-12-15T07:31:07.299631"
    },
    "collapsed": false
   },
   "outputs": [],
   "source": [
    "from sklearn.metrics import precision_score, recall_score"
   ]
  },
  {
   "cell_type": "code",
   "execution_count": 842,
   "metadata": {
    "ExecuteTime": {
     "end_time": "2016-12-15T07:35:36.043067",
     "start_time": "2016-12-15T07:35:36.034903"
    },
    "collapsed": false
   },
   "outputs": [
    {
     "data": {
      "text/plain": [
       "0.59910198845413731"
      ]
     },
     "execution_count": 842,
     "metadata": {},
     "output_type": "execute_result"
    }
   ],
   "source": [
    "precision_score(y_test, XtreePreds)"
   ]
  },
  {
   "cell_type": "code",
   "execution_count": 844,
   "metadata": {
    "ExecuteTime": {
     "end_time": "2016-12-15T07:35:52.557613",
     "start_time": "2016-12-15T07:35:52.550497"
    },
    "collapsed": false
   },
   "outputs": [
    {
     "data": {
      "text/plain": [
       "0.53463079564968519"
      ]
     },
     "execution_count": 844,
     "metadata": {},
     "output_type": "execute_result"
    }
   ],
   "source": [
    "recall_score(y_test, XtreePreds)"
   ]
  },
  {
   "cell_type": "code",
   "execution_count": 837,
   "metadata": {
    "ExecuteTime": {
     "end_time": "2016-12-15T07:31:07.336434",
     "start_time": "2016-12-15T07:31:07.320031"
    },
    "collapsed": false
   },
   "outputs": [
    {
     "data": {
      "text/plain": [
       "array([[4241,  625],\n",
       "       [ 813,  934]])"
      ]
     },
     "execution_count": 837,
     "metadata": {},
     "output_type": "execute_result"
    }
   ],
   "source": [
    "from sklearn.metrics import confusion_matrix\n",
    "confusion_matrix(y_true,XtreePreds)"
   ]
  },
  {
   "cell_type": "code",
   "execution_count": 801,
   "metadata": {
    "ExecuteTime": {
     "end_time": "2016-12-15T07:09:43.009439",
     "start_time": "2016-12-15T07:09:42.277089"
    },
    "collapsed": true
   },
   "outputs": [],
   "source": [
    "preds = Xtrees.predict_proba(X_test)[:,1]"
   ]
  },
  {
   "cell_type": "code",
   "execution_count": 802,
   "metadata": {
    "ExecuteTime": {
     "end_time": "2016-12-15T07:09:43.761071",
     "start_time": "2016-12-15T07:09:43.011666"
    },
    "collapsed": false
   },
   "outputs": [],
   "source": [
    "preds = Xtrees.predict_proba(X_test)[:,1]\n",
    "fpr, tpr, _ = metrics.roc_curve(y_true, preds)\n",
    "df = pd.DataFrame(dict(fpr=fpr, tpr=tpr))\n",
    "auc = metrics.auc(fpr,tpr)"
   ]
  },
  {
   "cell_type": "code",
   "execution_count": 856,
   "metadata": {
    "ExecuteTime": {
     "end_time": "2016-12-15T07:48:38.091791",
     "start_time": "2016-12-15T07:48:37.570563"
    },
    "collapsed": false
   },
   "outputs": [
    {
     "data": {
      "image/png": "[encoded data removed]",
      "text/plain": [
       "<matplotlib.figure.Figure at 0x1e4f41ac8>"
      ]
     },
     "metadata": {},
     "output_type": "display_data"
    },
    {
     "data": {
      "text/plain": [
       "<ggplot: (297437153)>"
      ]
     },
     "execution_count": 856,
     "metadata": {},
     "output_type": "execute_result"
    }
   ],
   "source": [
    "df = pd.DataFrame(dict(fpr=fpr, tpr=tpr))\n",
    "ggplot(df, aes(x='fpr', y='tpr')) +\\\n",
    "    geom_area(alpha=0.5) +\\\n",
    "    geom_line(aes(y='tpr')) +\\\n",
    "    ggtitle(\"ROC Curve w/ AUC={}\".format(str(auc)))"
   ]
  },
  {
   "cell_type": "code",
   "execution_count": 730,
   "metadata": {
    "ExecuteTime": {
     "end_time": "2016-12-15T06:24:48.671832",
     "start_time": "2016-12-15T06:24:48.650189"
    },
    "collapsed": false
   },
   "outputs": [
    {
     "data": {
      "text/html": [
       "<div>\n",
       "<table border=\"1\" class=\"dataframe\">\n",
       "  <thead>\n",
       "    <tr style=\"text-align: right;\">\n",
       "      <th></th>\n",
       "      <th>fpr</th>\n",
       "      <th>tpr</th>\n",
       "    </tr>\n",
       "  </thead>\n",
       "  <tbody>\n",
       "    <tr>\n",
       "      <th>0</th>\n",
       "      <td>0.0</td>\n",
       "      <td>1.0</td>\n",
       "    </tr>\n",
       "    <tr>\n",
       "      <th>1</th>\n",
       "      <td>1.0</td>\n",
       "      <td>1.0</td>\n",
       "    </tr>\n",
       "  </tbody>\n",
       "</table>\n",
       "</div>"
      ],
      "text/plain": [
       "   fpr  tpr\n",
       "0  0.0  1.0\n",
       "1  1.0  1.0"
      ]
     },
     "execution_count": 730,
     "metadata": {},
     "output_type": "execute_result"
    }
   ],
   "source": [
    "df"
   ]
  },
  {
   "cell_type": "code",
   "execution_count": 595,
   "metadata": {
    "ExecuteTime": {
     "end_time": "2016-12-15T05:47:51.936227",
     "start_time": "2016-12-15T05:47:51.600817"
    },
    "collapsed": false
   },
   "outputs": [
    {
     "data": {
      "text/plain": [
       "array([ 0.04345403,  0.04187088,  0.04166969,  0.03947902,  0.04169332,\n",
       "        0.04191014,  0.03609763,  0.04146834,  0.04543474,  0.03959846,\n",
       "        0.03980409,  0.04089975,  0.03908005,  0.03867188,  0.03898282,\n",
       "        0.03730518,  0.04273846,  0.03884549,  0.03927662,  0.03942067,\n",
       "        0.03937175,  0.03942535,  0.03735928,  0.03880408,  0.03733828])"
      ]
     },
     "execution_count": 595,
     "metadata": {},
     "output_type": "execute_result"
    }
   ],
   "source": [
    "Xtrees.feature_importances_"
   ]
  },
  {
   "cell_type": "markdown",
   "metadata": {},
   "source": [
    "# A. Voting Classifier"
   ]
  },
  {
   "cell_type": "code",
   "execution_count": 350,
   "metadata": {
    "ExecuteTime": {
     "end_time": "2016-12-15T02:59:29.828504",
     "start_time": "2016-12-15T02:59:29.824972"
    },
    "collapsed": false
   },
   "outputs": [],
   "source": [
    "eclf1 = VotingClassifier(estimators=[\n",
    "        ('rf',rf),\n",
    "        ('xtrees',Xtrees)], voting='hard'\n",
    "    )"
   ]
  },
  {
   "cell_type": "code",
   "execution_count": 351,
   "metadata": {
    "ExecuteTime": {
     "end_time": "2016-12-15T03:00:12.552421",
     "start_time": "2016-12-15T02:59:31.796108"
    },
    "collapsed": false
   },
   "outputs": [
    {
     "data": {
      "text/plain": [
       "VotingClassifier(estimators=[('rf', RandomForestClassifier(bootstrap=True, class_weight=None, criterion='gini',\n",
       "            max_depth=None, max_features=5, max_leaf_nodes=None,\n",
       "            min_impurity_split=1e-07, min_samples_leaf=1,\n",
       "            min_samples_split=2, min_weight_fraction_leaf=0.0,\n",
       "            n_estim...mators=1000, n_jobs=7, oob_score=False, random_state=None,\n",
       "           verbose=0, warm_start=False))],\n",
       "         n_jobs=1, voting='hard', weights=None)"
      ]
     },
     "execution_count": 351,
     "metadata": {},
     "output_type": "execute_result"
    }
   ],
   "source": [
    "eclf1.fit(X_train,y_train)"
   ]
  },
  {
   "cell_type": "code",
   "execution_count": 352,
   "metadata": {
    "ExecuteTime": {
     "end_time": "2016-12-15T03:00:14.784135",
     "start_time": "2016-12-15T03:00:12.557425"
    },
    "collapsed": true
   },
   "outputs": [],
   "source": [
    "eclfPreds = eclf1.predict(X_test)"
   ]
  },
  {
   "cell_type": "code",
   "execution_count": 353,
   "metadata": {
    "ExecuteTime": {
     "end_time": "2016-12-15T03:00:14.791314",
     "start_time": "2016-12-15T03:00:14.785816"
    },
    "collapsed": false
   },
   "outputs": [
    {
     "name": "stdout",
     "output_type": "stream",
     "text": [
      "0.780583698775 0.689283796002\n"
     ]
    }
   ],
   "source": [
    "print(accuracy_score(y_true,eclfPreds),roc_auc_score(y_true,eclfPreds))"
   ]
  },
  {
   "cell_type": "code",
   "execution_count": 532,
   "metadata": {
    "ExecuteTime": {
     "end_time": "2016-12-15T04:33:44.307191",
     "start_time": "2016-12-15T04:33:44.148066"
    },
    "collapsed": false
   },
   "outputs": [],
   "source": [
    "params = {'max_depth':[10,20,50,100,200,None],\n",
    "          'criterion':['entropy'],\n",
    "         'min_samples_split':[1,2,3,4,5,10],\n",
    "         'min_samples_leaf':[1,2,3,4,5],\n",
    "         'max_features':['auto',5],\n",
    "         'random_state':[123],\n",
    "          'n_estimators':[5,50,100,1000]\n",
    "         }\n",
    "Xtrees = ExtraTreesClassifier()"
   ]
  },
  {
   "cell_type": "code",
   "execution_count": 533,
   "metadata": {
    "ExecuteTime": {
     "end_time": "2016-12-15T04:33:47.120704",
     "start_time": "2016-12-15T04:33:47.117528"
    },
    "collapsed": false
   },
   "outputs": [],
   "source": [
    "clf = GridSearchCV(Xtrees, params, n_jobs=7, scoring='roc_auc', cv=2)"
   ]
  },
  {
   "cell_type": "code",
   "execution_count": 534,
   "metadata": {
    "ExecuteTime": {
     "end_time": "2016-12-15T05:38:28.663377",
     "start_time": "2016-12-15T04:33:48.722723"
    },
    "collapsed": false
   },
   "outputs": [
    {
     "data": {
      "text/plain": [
       "GridSearchCV(cv=2, error_score='raise',\n",
       "       estimator=ExtraTreesClassifier(bootstrap=False, class_weight=None, criterion='gini',\n",
       "           max_depth=None, max_features='auto', max_leaf_nodes=None,\n",
       "           min_impurity_split=1e-07, min_samples_leaf=1,\n",
       "           min_samples_split=2, min_weight_fraction_leaf=0.0,\n",
       "           n_estimators=10, n_jobs=1, oob_score=False, random_state=None,\n",
       "           verbose=0, warm_start=False),\n",
       "       fit_params={}, iid=True, n_jobs=7,\n",
       "       param_grid={'min_samples_split': [1, 2, 3, 4, 5, 10], 'max_depth': [10, 20, 50, 100, 200, None], 'random_state': [123], 'max_features': ['auto', 5], 'n_estimators': [5, 50, 100, 1000], 'min_samples_leaf': [1, 2, 3, 4, 5], 'criterion': ['entropy']},\n",
       "       pre_dispatch='2*n_jobs', refit=True, return_train_score=True,\n",
       "       scoring='roc_auc', verbose=0)"
      ]
     },
     "execution_count": 534,
     "metadata": {},
     "output_type": "execute_result"
    }
   ],
   "source": [
    "clf.fit(X_train,y_train)"
   ]
  },
  {
   "cell_type": "code",
   "execution_count": 542,
   "metadata": {
    "ExecuteTime": {
     "end_time": "2016-12-15T05:40:14.709813",
     "start_time": "2016-12-15T05:40:12.847442"
    },
    "collapsed": false
   },
   "outputs": [],
   "source": [
    "clfPreds = clf.predict(X_test)"
   ]
  },
  {
   "cell_type": "code",
   "execution_count": 543,
   "metadata": {
    "ExecuteTime": {
     "end_time": "2016-12-15T05:40:14.719021",
     "start_time": "2016-12-15T05:40:14.713244"
    },
    "collapsed": false
   },
   "outputs": [
    {
     "name": "stdout",
     "output_type": "stream",
     "text": [
      "0.704650106542\n"
     ]
    }
   ],
   "source": [
    "print(roc_auc_score(y_true,clfPreds))"
   ]
  },
  {
   "cell_type": "code",
   "execution_count": 544,
   "metadata": {
    "ExecuteTime": {
     "end_time": "2016-12-15T05:40:15.881899",
     "start_time": "2016-12-15T05:40:15.878247"
    },
    "collapsed": false
   },
   "outputs": [
    {
     "name": "stdout",
     "output_type": "stream",
     "text": [
      "0.78375926206\n"
     ]
    }
   ],
   "source": [
    "print(accuracy_score(y_true,clfPreds))"
   ]
  },
  {
   "cell_type": "code",
   "execution_count": 545,
   "metadata": {
    "ExecuteTime": {
     "end_time": "2016-12-15T05:40:17.801569",
     "start_time": "2016-12-15T05:40:17.797268"
    },
    "collapsed": false
   },
   "outputs": [
    {
     "data": {
      "text/plain": [
       "{'criterion': 'entropy',\n",
       " 'max_depth': 50,\n",
       " 'max_features': 5,\n",
       " 'min_samples_leaf': 1,\n",
       " 'min_samples_split': 3,\n",
       " 'n_estimators': 1000,\n",
       " 'random_state': 123}"
      ]
     },
     "execution_count": 545,
     "metadata": {},
     "output_type": "execute_result"
    }
   ],
   "source": [
    "clf.best_params_"
   ]
  },
  {
   "cell_type": "code",
   "execution_count": 546,
   "metadata": {
    "ExecuteTime": {
     "end_time": "2016-12-15T05:40:21.684080",
     "start_time": "2016-12-15T05:40:21.680323"
    },
    "collapsed": false
   },
   "outputs": [
    {
     "data": {
      "text/plain": [
       "0.9128125160629601"
      ]
     },
     "execution_count": 546,
     "metadata": {},
     "output_type": "execute_result"
    }
   ],
   "source": [
    "clf.best_score_"
   ]
  }
 ],
 "metadata": {
  "anaconda-cloud": {},
  "kernelspec": {
   "display_name": "Python [conda env:python3]",
   "language": "python",
   "name": "conda-env-python3-py"
  },
  "language_info": {
   "codemirror_mode": {
    "name": "ipython",
    "version": 3
   },
   "file_extension": ".py",
   "mimetype": "text/x-python",
   "name": "python",
   "nbconvert_exporter": "python",
   "pygments_lexer": "ipython3",
   "version": "3.5.2"
  }
 },
 "nbformat": 4,
 "nbformat_minor": 0
}
