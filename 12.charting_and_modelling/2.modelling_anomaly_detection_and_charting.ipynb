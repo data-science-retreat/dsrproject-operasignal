{
 "cells": [
  {
   "cell_type": "code",
   "execution_count": 3,
   "metadata": {
    "ExecuteTime": {
     "end_time": "2016-12-14T23:50:36.475511",
     "start_time": "2016-12-14T23:50:22.295284"
    },
    "collapsed": false
   },
   "outputs": [],
   "source": [
    "import pandas as pd\n",
    "import numpy as np\n",
    "import _pickle\n",
    "from os.path import join\n",
    "import matplotlib.pyplot as plt\n",
    "from tqdm import tqdm, tqdm_notebook\n",
    "import xgboost as xgb"
   ]
  },
  {
   "cell_type": "code",
   "execution_count": 4,
   "metadata": {
    "ExecuteTime": {
     "end_time": "2016-12-14T23:50:36.481263",
     "start_time": "2016-12-14T23:50:36.478237"
    },
    "collapsed": true
   },
   "outputs": [],
   "source": [
    "from sklearn.model_selection import train_test_split, GridSearchCV"
   ]
  },
  {
   "cell_type": "code",
   "execution_count": 55,
   "metadata": {
    "ExecuteTime": {
     "end_time": "2016-12-15T00:09:11.571058",
     "start_time": "2016-12-15T00:09:11.565085"
    },
    "collapsed": false
   },
   "outputs": [],
   "source": [
    "from sklearn.ensemble import RandomForestClassifier, ExtraTreesClassifier, BaggingClassifier, AdaBoostClassifier,\\\n",
    "GradientBoostingClassifier\n",
    "from sklearn.linear_model import LogisticRegression, SGDClassifier\n",
    "from sklearn.neural_network import MLPClassifier\n",
    "from sklearn.naive_bayes import GaussianNB\n",
    "from sklearn import svm\n",
    "from sklearn import preprocessing\n",
    "from sklearn.metrics import accuracy_score, roc_auc_score,roc_curve\n",
    "from sklearn.neighbors import KNeighborsClassifier\n",
    "from sklearn import tree"
   ]
  },
  {
   "cell_type": "code",
   "execution_count": 6,
   "metadata": {
    "ExecuteTime": {
     "end_time": "2016-12-14T23:50:38.066433",
     "start_time": "2016-12-14T23:50:37.440462"
    },
    "collapsed": false
   },
   "outputs": [
    {
     "name": "stderr",
     "output_type": "stream",
     "text": [
      "/Users/Toavina/anaconda/envs/python3/lib/python3.5/site-packages/sklearn/cross_validation.py:44: DeprecationWarning: This module was deprecated in version 0.18 in favor of the model_selection module into which all the refactored classes and functions are moved. Also note that the interface of the new CV iterators are different from that of this module. This module will be removed in 0.20.\n",
      "  \"This module will be removed in 0.20.\", DeprecationWarning)\n"
     ]
    }
   ],
   "source": [
    "from imblearn.over_sampling import SMOTE\n",
    "from imblearn.combine import SMOTEENN, SMOTETomek"
   ]
  },
  {
   "cell_type": "markdown",
   "metadata": {},
   "source": [
    "# 1. Load dataframe and variables"
   ]
  },
  {
   "cell_type": "code",
   "execution_count": null,
   "metadata": {
    "ExecuteTime": {
     "end_time": "2016-12-14T22:55:23.450999",
     "start_time": "2016-12-14T22:55:21.490144"
    },
    "collapsed": false
   },
   "outputs": [],
   "source": [
    "inputfile_path = join('/Users','Toavina','githubdata','12.charting_and_modelling','1.pickles','merged_df_concat.pkl')\n",
    "\n",
    "agg_df = _pickle.load(open(inputfile_path,'rb'))\n",
    "\n",
    "%matplotlib inline\n",
    "plt.style.use('ggplot')\n",
    "\n",
    "pd.options.display.max_columns = 200"
   ]
  },
  {
   "cell_type": "markdown",
   "metadata": {
    "ExecuteTime": {
     "end_time": "2016-12-13T20:16:53.132732",
     "start_time": "2016-12-13T20:16:53.040719"
    }
   },
   "source": [
    "# 2. Create Moving Average and Signals to Detect Anomalies"
   ]
  },
  {
   "cell_type": "code",
   "execution_count": null,
   "metadata": {
    "ExecuteTime": {
     "end_time": "2016-12-14T22:54:22.124327",
     "start_time": "2016-12-14T21:54:08.885Z"
    },
    "collapsed": false
   },
   "outputs": [],
   "source": [
    "# for each in all_dfs[0].columns:\n",
    "#     print(each)\n",
    "\n",
    "users = agg_df.columns.levels[0]\n",
    "\n",
    "all_dfs = [agg_df[users[i]] for i in range(len(users))]\n",
    "\n",
    "for df in tqdm_notebook(all_dfs):\n",
    "    df['EWMA_6'] = df['AggEventsWeighted'].ewm(span=6).mean()\n",
    "    df['EWMA_3'] = df['AggEventsWeighted'].ewm(span=3).mean()\n",
    "    df['diff_6'] = df['AggEventsWeighted'] - df['EWMA_6']\n",
    "    df['diff_3'] = df['AggEventsWeighted'] - df['EWMA_3']\n",
    "    df['perc_diff_3'] = df['diff_3'] / df['EWMA_3']\n",
    "    df['perc_diff_6'] = df['diff_6'] / df['EWMA_6']\n",
    "\n",
    "for df in tqdm_notebook(all_dfs):\n",
    "    \n",
    "#     EWMA3_Threshold_80 = 0.8\n",
    "    EWMA6_Threshold_80 = 0.8\n",
    "      \n",
    "#     df['EWMA_3_Signal'] = 0\n",
    "    df['EWMA_6_Signal'] = 0\n",
    "    \n",
    "    for j in range(len(df)):\n",
    "    \n",
    "#         if df.ix[j,'perc_diff_3'] > EWMA3_Threshold_80:\n",
    "#             df.ix[j,'EWMA_3_Signal'] = 1\n",
    "\n",
    "        if df.ix[j,'perc_diff_6'] > EWMA6_Threshold_80:\n",
    "            df.ix[j,'EWMA_6_Signal'] = 1"
   ]
  },
  {
   "cell_type": "markdown",
   "metadata": {},
   "source": [
    "# Charting"
   ]
  },
  {
   "cell_type": "code",
   "execution_count": null,
   "metadata": {
    "ExecuteTime": {
     "end_time": "2016-12-14T22:59:36.972526",
     "start_time": "2016-12-14T22:59:36.911445"
    },
    "collapsed": false
   },
   "outputs": [],
   "source": [
    "def plot_events(usernum):\n",
    "    \n",
    "    df = all_dfs[usernum]\n",
    "    \n",
    "    min_date = df.index.tolist()[0]\n",
    "    \n",
    "    gh_username = df['InferredGHUserCopy'][0]\n",
    "    \n",
    "    hn_post_dates = all_dfs[usernum][all_dfs[usernum]['HNPosts'] == 1].index.tolist()\n",
    "    new_job_dates = all_dfs[usernum][all_dfs[usernum]['NewJobFlag'] == 1].index.tolist()\n",
    "    end_job_dates = all_dfs[usernum][all_dfs[usernum]['EndJobFlag'] == 1].index.tolist()\n",
    "    new_edu_dates = all_dfs[usernum][all_dfs[usernum]['StartEduFlag'] == 1].index.tolist()\n",
    "    end_edu_dates = all_dfs[usernum][all_dfs[usernum]['EndEduFlag'] == 1].index.tolist()\n",
    "    \n",
    "    gh_events_series = df['AggEventsWeighted']\n",
    "    \n",
    "#     EWMA_3 = df['EWMA_3']\n",
    "    EWMA_6 = df['EWMA_6']\n",
    "    \n",
    "    GH_created_date = all_dfs[usernum]['GHAcctCreatedAt'][0] + pd.offsets.MonthEnd(0, normalize=True)\n",
    "    \n",
    "    try:\n",
    "        plt.axvline(new_edu_dates[0], label = 'New Education')\n",
    "        [plt.axvline(_x, color='b') for _x in new_edu_dates]\n",
    "    except:\n",
    "        pass\n",
    "    \n",
    "    try:\n",
    "        plt.axvline(end_edu_dates[0], label = 'Ended Education')\n",
    "        [plt.axvline(_x) for _x in end_edu_dates]\n",
    "    except:\n",
    "        pass\n",
    "        \n",
    "    \n",
    "    try:\n",
    "        plt.axvline(hn_post_dates[0], color='b', label = 'HN Job Post')\n",
    "        [plt.axvline(_x, color='b') for _x in hn_post_dates]\n",
    "    except:\n",
    "        pass\n",
    "    \n",
    "    if GH_created_date > min_date:\n",
    "        plt.axvline(GH_created_date, color ='y', label = 'Date GH account created')\n",
    "    \n",
    "    try:\n",
    "        plt.axvline(end_job_dates[0], label = 'Ended Job')\n",
    "        [plt.axvline(_x) for _x in end_job_dates]\n",
    "    except:\n",
    "        pass\n",
    "    \n",
    "    try:\n",
    "        plt.axvline(new_job_dates[0], color='g', label = 'New Job')\n",
    "        [plt.axvline(_x, color='g') for _x in new_job_dates]\n",
    "    except:\n",
    "        pass\n",
    "    \n",
    "    gh_events_series.plot(label = \"Github Activity (# Events)\")\n",
    "#     EWMA_3.plot(label = \"GH Activity EMA_3\")\n",
    "    EWMA_6.plot(label = \"GH Activity EMA_6\")\n",
    "    \n",
    "    plt.legend(bbox_to_anchor=(1.25,0.5), loc = 'lower center', fontsize='small', ncol=1)\n",
    "    "
   ]
  },
  {
   "cell_type": "code",
   "execution_count": null,
   "metadata": {
    "ExecuteTime": {
     "end_time": "2016-12-14T22:59:39.561636",
     "start_time": "2016-12-14T22:59:39.184409"
    },
    "collapsed": false
   },
   "outputs": [],
   "source": [
    "plot_events(7)"
   ]
  },
  {
   "cell_type": "markdown",
   "metadata": {},
   "source": [
    "# Model 1 - Predicting whether someone will switch jobs or not in next 3 / 6 months"
   ]
  },
  {
   "cell_type": "code",
   "execution_count": null,
   "metadata": {
    "ExecuteTime": {
     "end_time": "2016-12-13T23:26:14.357305",
     "start_time": "2016-12-13T23:26:14.353774"
    },
    "collapsed": true
   },
   "outputs": [],
   "source": [
    "# Create a column that returns 1 if job within the next 3-6 months, 0 if not\n",
    "# One Hot Encode Relevant Columns, select the relevant ones, and run a RF on it to see baseline results\n",
    "# Try both 3 and 6 months. When works, see if can create pipeline, do a grid search and run SVM, Linear Regression ...\n",
    "\n",
    "# Model 2 - Same as above, but qualifying signals as good or bad\n",
    "\n",
    "# Model 3 - TBD - Create a points system with my knowledge to qualify each signal, see whether machine can find it\n",
    "\n",
    "# Model 4 - Unlikely - Using points system, score each item and see results versus the machine as to what is a good\n",
    "# prospect"
   ]
  },
  {
   "cell_type": "code",
   "execution_count": null,
   "metadata": {
    "ExecuteTime": {
     "end_time": "2016-12-14T00:34:50.007005",
     "start_time": "2016-12-14T00:34:49.977011"
    },
    "collapsed": false
   },
   "outputs": [],
   "source": [
    "def look_fwd_3mo(df,postcolname,newjobcolname):\n",
    "    \n",
    "    df['lf_3_job_seeking'] = 0\n",
    "    \n",
    "    rows_remaining = len(df)\n",
    "    \n",
    "    dates = df.index\n",
    "    \n",
    "    for date in dates:\n",
    "        rows_remaining -= 1\n",
    "        if rows_remaining >= 3:\n",
    "            items_to_check = [df.ix[date,postcolname],\n",
    "                              df.ix[date+1,postcolname],\n",
    "                              df.ix[date+2,postcolname],\n",
    "                              df.ix[date+3,postcolname],\n",
    "                              df.ix[date,newjobcolname],\n",
    "                              df.ix[date+1,newjobcolname],\n",
    "                              df.ix[date+2,newjobcolname],\n",
    "                              df.ix[date+3,newjobcolname]\n",
    "                             ]\n",
    "        elif rows_remaining == 2:\n",
    "            items_to_check = [df.ix[date,postcolname],\n",
    "                              df.ix[date+1,postcolname],\n",
    "                              df.ix[date+2,postcolname],\n",
    "                              df.ix[date,newjobcolname],\n",
    "                              df.ix[date+1,newjobcolname],\n",
    "                              df.ix[date+2,newjobcolname]\n",
    "                             ]\n",
    "        elif rows_remaining == 1:\n",
    "            items_to_check = [df.ix[date,postcolname],\n",
    "                              df.ix[date+1,postcolname],\n",
    "                              df.ix[date,newjobcolname],\n",
    "                              df.ix[date+1,newjobcolname]\n",
    "                             ]\n",
    "        elif rows_remaining == 0:\n",
    "            items_to_check = [df.ix[date,postcolname],\n",
    "                              df.ix[date,newjobcolname]\n",
    "                             ]\n",
    "            \n",
    "        stat_var = 0\n",
    "\n",
    "        for item in items_to_check:\n",
    "            if item == 1:\n",
    "                stat_var = 1\n",
    "        df.ix[date,'lf_3_job_seeking'] = stat_var\n",
    "                                      \n",
    "    return df\n",
    "\n",
    "for df in tqdm_notebook(all_dfs):\n",
    "    df = look_fwd_3mo(df,'HNPosts','NewJobFlag')"
   ]
  },
  {
   "cell_type": "code",
   "execution_count": null,
   "metadata": {
    "ExecuteTime": {
     "end_time": "2016-12-14T01:23:52.672290",
     "start_time": "2016-12-14T01:23:51.312480"
    },
    "collapsed": false
   },
   "outputs": [],
   "source": [
    "# _pickle.dump(all_dfs,open('all_dfs.pkl','wb'))"
   ]
  },
  {
   "cell_type": "markdown",
   "metadata": {},
   "source": [
    "# Loading the model"
   ]
  },
  {
   "cell_type": "code",
   "execution_count": 7,
   "metadata": {
    "ExecuteTime": {
     "end_time": "2016-12-14T23:50:40.342942",
     "start_time": "2016-12-14T23:50:38.068112"
    },
    "collapsed": false
   },
   "outputs": [],
   "source": [
    "all_dfs = _pickle.load(open('all_dfs.pkl','rb'))"
   ]
  },
  {
   "cell_type": "code",
   "execution_count": 8,
   "metadata": {
    "ExecuteTime": {
     "end_time": "2016-12-14T23:50:48.692974",
     "start_time": "2016-12-14T23:50:40.344813"
    },
    "collapsed": false
   },
   "outputs": [
    {
     "name": "stdout",
     "output_type": "stream",
     "text": [
      "The percentage of positive classifications is 0\n"
     ]
    }
   ],
   "source": [
    "all_obs = pd.concat(all_dfs, axis=0)\n",
    "\n",
    "LinkedInOnly = all_obs[pd.notnull(all_obs['LinkedInName'])]\n",
    "\n",
    "percentpos = LinkedInOnly['lf_3_job_seeking'].sum()/LinkedInOnly.shape[0]\n",
    "print('The percentage of positive classifications is {0:.0f}'.format(percentpos))"
   ]
  },
  {
   "cell_type": "markdown",
   "metadata": {},
   "source": [
    "# Separating X and Y, One Hot Encoding..."
   ]
  },
  {
   "cell_type": "code",
   "execution_count": 9,
   "metadata": {
    "ExecuteTime": {
     "end_time": "2016-12-14T23:50:48.720340",
     "start_time": "2016-12-14T23:50:48.694729"
    },
    "collapsed": false
   },
   "outputs": [],
   "source": [
    "x = LinkedInOnly[['AggEventsEqual','AggEventsWeighted',\n",
    "              'JobExpInstitutionType0','JobExpTitleType0',\n",
    "              'JobExpInstitutionType1','JobExpTitleType1',\n",
    "              'JobExpInstitutionType2','JobExpTitleType2',\n",
    "              'JobExpInstitutionType3','JobExpTitleType3',\n",
    "              'JobExpInstitutionType4','JobExpTitleType4',\n",
    "              'JobExpInstitutionType5','JobExpTitleType5',\n",
    "              'EduExpInstitutionType0','EduExpTitleType0',\n",
    "              'EduExpInstitutionType1','EduExpTitleType1',\n",
    "              'EduExpInstitutionType2','EduExpTitleType2',\n",
    "              'EduExpInstitutionType3','EduExpTitleType3',\n",
    "              'EduExpInstitutionType4','EduExpTitleType4',\n",
    "#               'JobExpCurrentTenure0','JobExpCurrentTenure1','JobExpCurrentTenure2',\n",
    "#               'JobExpCurrentTenure3','JobExpCurrentTenure4','JobExpCurrentTenure5',\n",
    "              'NumCurrentJobs','NumCurrentEdu','NumCurrentJobsAndEdu','EmploymentStatus','NEET',\n",
    "              'EndJobFlag','StartEduFlag','EndEduFlag','CumJobsToDate','CumEduToDate',\n",
    "              'HighestDegree','HighestInstitutionType',\n",
    "#             'HighestDegreeTimeSinceStartDate','HighestDegreeTimeSinceEndDate',\n",
    "              'RecentJob',\n",
    "              'RecentJobInstitutionType',\n",
    "#               'RecentJobTimeSinceStartDate','RecentJobTimeSinceEndDate',\n",
    "              'GHFollowers','GHFollowing',\n",
    "#                   'GHHireable',      # Note - Removed because issues with setting to False if nothing\n",
    "                  'PublicGists','PublicRepos','EWMA_6','EWMA_3','diff_6','diff_3',\n",
    "              'EWMA_3_Signal','EWMA_6_Signal'\n",
    "             ]]"
   ]
  },
  {
   "cell_type": "code",
   "execution_count": 10,
   "metadata": {
    "ExecuteTime": {
     "end_time": "2016-12-14T23:50:48.738162",
     "start_time": "2016-12-14T23:50:48.722689"
    },
    "collapsed": false
   },
   "outputs": [],
   "source": [
    "y = LinkedInOnly['lf_3_job_seeking']\n",
    "x = x.reset_index()\n",
    "y = y.reset_index()"
   ]
  },
  {
   "cell_type": "code",
   "execution_count": 11,
   "metadata": {
    "ExecuteTime": {
     "end_time": "2016-12-14T23:50:48.812091",
     "start_time": "2016-12-14T23:50:48.739935"
    },
    "collapsed": false
   },
   "outputs": [],
   "source": [
    "x[[col for col in x.columns if 'JobExpInstitutionType' in col]] = \\\n",
    "x[[col for col in x.columns if 'JobExpInstitutionType' in col]].fillna('none')\n",
    "\n",
    "x[[col for col in x.columns if 'JobExpTitleType' in col]] = \\\n",
    "x[[col for col in x.columns if 'JobExpTitleType' in col]].fillna('none')\n",
    "\n",
    "x[[col for col in x.columns if 'EduExpInstitutionType' in col]] = \\\n",
    "x[[col for col in x.columns if 'EduExpInstitutionType' in col]].fillna('none')\n",
    "\n",
    "x[[col for col in x.columns if 'EduExpTitleType' in col]] = \\\n",
    "x[[col for col in x.columns if 'EduExpTitleType' in col]].fillna('none')\n",
    "\n",
    "x[[col for col in x.columns if 'NumCurrent' in col]] = \\\n",
    "x[[col for col in x.columns if 'NumCurrent' in col]].fillna(0)"
   ]
  },
  {
   "cell_type": "code",
   "execution_count": 12,
   "metadata": {
    "ExecuteTime": {
     "end_time": "2016-12-14T23:50:48.967574",
     "start_time": "2016-12-14T23:50:48.814116"
    },
    "collapsed": false
   },
   "outputs": [],
   "source": [
    "jobexpdummies = pd.concat([pd.get_dummies(x['JobExpInstitutionType{}'.format(str(i))], \n",
    "                prefix='JobExpInstitutionType{}'.format(str(i))) for i in range(6)], axis=1)\n",
    "\n",
    "jobexptitledummies = pd.concat([pd.get_dummies(x['JobExpTitleType{}'.format(str(i))], \n",
    "                prefix='JobExpTitleType{}'.format(str(i))) for i in range(6)], axis=1)\n",
    "\n",
    "eduexpdummies = pd.concat([pd.get_dummies(x['EduExpInstitutionType{}'.format(str(i))], \n",
    "                prefix='EduExpInstitutionType{}'.format(str(i))) for i in range(5)], axis=1)\n",
    "\n",
    "eduexptitledummies = pd.concat([pd.get_dummies(x['EduExpTitleType{}'.format(str(i))], \n",
    "                prefix='EduExpTitleType{}'.format(str(i))) for i in range(5)], axis=1)\n",
    "\n",
    "\n",
    "degreedummies = pd.get_dummies(x['HighestDegree'], prefix='HighestDegree')\n",
    "\n",
    "highestintitutiontypedummies = pd.get_dummies(x['HighestInstitutionType'], prefix='HighestInstitutionType')\n",
    "\n",
    "recentjobdummies = pd.get_dummies(x['RecentJob'], prefix = 'RecentJob')\n",
    "recentjobinstitutiontype = pd.get_dummies(x['RecentJobInstitutionType'], prefix='RecentJobInstitutionType')\n",
    "\n",
    "x = pd.concat([x,jobexpdummies,jobexptitledummies,eduexpdummies,eduexptitledummies,degreedummies,\n",
    "          highestintitutiontypedummies,recentjobdummies,recentjobinstitutiontype], axis=1)"
   ]
  },
  {
   "cell_type": "code",
   "execution_count": 13,
   "metadata": {
    "ExecuteTime": {
     "end_time": "2016-12-14T23:50:49.060969",
     "start_time": "2016-12-14T23:50:48.969227"
    },
    "collapsed": false
   },
   "outputs": [],
   "source": [
    "x = x.drop([\n",
    "'index',\n",
    "'JobExpInstitutionType0',\n",
    "'JobExpTitleType0',\n",
    "'JobExpInstitutionType1',\n",
    "'JobExpTitleType1',\n",
    "'JobExpInstitutionType2',\n",
    "'JobExpTitleType2',\n",
    "'JobExpInstitutionType3',\n",
    "'JobExpTitleType3',\n",
    "'JobExpInstitutionType4',\n",
    "'JobExpTitleType4',\n",
    "'JobExpInstitutionType5',\n",
    "'JobExpTitleType5',\n",
    "'EduExpInstitutionType0',\n",
    "'EduExpTitleType0',\n",
    "'EduExpInstitutionType1',\n",
    "'EduExpTitleType1',\n",
    "'EduExpInstitutionType2',\n",
    "'EduExpTitleType2',\n",
    "'EduExpInstitutionType3',\n",
    "'EduExpTitleType3',\n",
    "'EduExpInstitutionType4',\n",
    "'EduExpTitleType4',\n",
    "'HighestDegree',\n",
    "'HighestInstitutionType',\n",
    "'RecentJob',\n",
    "'RecentJobInstitutionType'   \n",
    "        ], axis=1)"
   ]
  },
  {
   "cell_type": "markdown",
   "metadata": {},
   "source": [
    "# Creating test and train sets"
   ]
  },
  {
   "cell_type": "code",
   "execution_count": 14,
   "metadata": {
    "ExecuteTime": {
     "end_time": "2016-12-14T23:50:57.060651",
     "start_time": "2016-12-14T23:50:56.417703"
    },
    "collapsed": false
   },
   "outputs": [],
   "source": [
    "X_train, X_test, y_train, y_test = train_test_split(x, y, test_size=0.3, random_state = 666)\n",
    "\n",
    "scaler = preprocessing.StandardScaler().fit(X_train)\n",
    "X_train = scaler.transform(X_train)\n",
    "X_test = scaler.transform(X_test)\n",
    "\n",
    "y_test = y_test.drop('index', axis=1)\n",
    "y_train = y_train.drop('index', axis=1)\n",
    "\n",
    "y_train = np.array(y_train)\n",
    "y_test = np.array(y_test)\n",
    "\n",
    "y_train = y_train.reshape(y_train.shape[0],)\n",
    "y_test = y_test.reshape(y_test.shape[0],)\n",
    "\n",
    "# sm = SMOTEENN()\n",
    "\n",
    "# X_train, y_train = sm.fit_sample(X_train, y_train)"
   ]
  },
  {
   "cell_type": "code",
   "execution_count": 15,
   "metadata": {
    "ExecuteTime": {
     "end_time": "2016-12-14T23:50:58.694822",
     "start_time": "2016-12-14T23:50:58.687953"
    },
    "collapsed": false
   },
   "outputs": [
    {
     "data": {
      "text/plain": [
       "0.73843162670123141"
      ]
     },
     "execution_count": 15,
     "metadata": {},
     "output_type": "execute_result"
    }
   ],
   "source": [
    "1- (y_train.sum()/y_train.shape[0])"
   ]
  },
  {
   "cell_type": "code",
   "execution_count": 16,
   "metadata": {
    "ExecuteTime": {
     "end_time": "2016-12-14T23:50:59.322161",
     "start_time": "2016-12-14T23:50:59.317800"
    },
    "collapsed": false
   },
   "outputs": [
    {
     "data": {
      "text/plain": [
       "0.73582337819446542"
      ]
     },
     "execution_count": 16,
     "metadata": {},
     "output_type": "execute_result"
    }
   ],
   "source": [
    "1- (y_test.sum()/y_test.shape[0])"
   ]
  },
  {
   "cell_type": "markdown",
   "metadata": {
    "ExecuteTime": {
     "end_time": "2016-12-14T11:35:03.019593",
     "start_time": "2016-12-14T11:35:03.016980"
    }
   },
   "source": [
    "## 1. Random Forest"
   ]
  },
  {
   "cell_type": "code",
   "execution_count": 17,
   "metadata": {
    "ExecuteTime": {
     "end_time": "2016-12-14T23:51:11.692532",
     "start_time": "2016-12-14T23:51:01.243691"
    },
    "collapsed": false
   },
   "outputs": [
    {
     "name": "stdout",
     "output_type": "stream",
     "text": [
      "0.776652048994 0.649738521865\n"
     ]
    }
   ],
   "source": [
    "rf=RandomForestClassifier(n_jobs = 7, max_features=13,n_estimators=1000)\n",
    "\n",
    "rf.fit(X_train,y_train)\n",
    "\n",
    "y_pred = rf.predict(X_test)\n",
    "\n",
    "y_true = y_test\n",
    "\n",
    "print(accuracy_score(y_true, y_pred),roc_auc_score(y_true, y_pred))"
   ]
  },
  {
   "cell_type": "markdown",
   "metadata": {},
   "source": [
    "## 2. XGBoost"
   ]
  },
  {
   "cell_type": "code",
   "execution_count": 18,
   "metadata": {
    "ExecuteTime": {
     "end_time": "2016-12-14T23:52:34.483045",
     "start_time": "2016-12-14T23:51:34.827516"
    },
    "collapsed": false
   },
   "outputs": [
    {
     "name": "stdout",
     "output_type": "stream",
     "text": [
      "0.771208226221 0.655028489918\n"
     ]
    }
   ],
   "source": [
    "XGBModel = xgb.XGBClassifier(n_estimators=1000, max_depth=10)\n",
    "\n",
    "XGBModel.fit(X_train,y_train)\n",
    "\n",
    "XGBpreds = XGBModel.predict(X_test)\n",
    "\n",
    "print(accuracy_score(y_true,XGBpreds),roc_auc_score(y_true,XGBpreds))"
   ]
  },
  {
   "cell_type": "markdown",
   "metadata": {},
   "source": [
    "# 3. LogisticRegression"
   ]
  },
  {
   "cell_type": "code",
   "execution_count": 21,
   "metadata": {
    "ExecuteTime": {
     "end_time": "2016-12-14T23:54:32.944558",
     "start_time": "2016-12-14T23:54:29.989768"
    },
    "collapsed": false
   },
   "outputs": [
    {
     "name": "stdout",
     "output_type": "stream",
     "text": [
      "0.747618327537 0.556078990206\n"
     ]
    }
   ],
   "source": [
    "LRModel = LogisticRegression(n_jobs=7)\n",
    "\n",
    "LRModel.fit(X_train,y_train)\n",
    "\n",
    "LRPreds = LRModel.predict(X_test)\n",
    "\n",
    "print(accuracy_score(y_true,LRPreds),roc_auc_score(y_true,LRPreds))"
   ]
  },
  {
   "cell_type": "markdown",
   "metadata": {},
   "source": [
    "# 4 . Support Vector Machines\n"
   ]
  },
  {
   "cell_type": "code",
   "execution_count": null,
   "metadata": {
    "ExecuteTime": {
     "start_time": "2016-12-14T22:45:03.741Z"
    },
    "collapsed": false
   },
   "outputs": [],
   "source": [
    "clf = svm.SVC(verbose=True,kernel='linear')\n",
    "clf.fit(X_train,y_train)\n",
    "\n",
    "SVMPreds = clf.predict(X_test)\n",
    "\n",
    "print(accuracy_score(y_true,SVMPreds),roc_auc_score(y_true,SVMPreds))"
   ]
  },
  {
   "cell_type": "markdown",
   "metadata": {},
   "source": [
    "# 5. Extra Trees Classifier"
   ]
  },
  {
   "cell_type": "code",
   "execution_count": 42,
   "metadata": {
    "ExecuteTime": {
     "end_time": "2016-12-15T00:06:07.628608",
     "start_time": "2016-12-15T00:05:55.001274"
    },
    "collapsed": false
   },
   "outputs": [
    {
     "name": "stdout",
     "output_type": "stream",
     "text": [
      "0.783305610162 0.672788252353\n"
     ]
    }
   ],
   "source": [
    "Xtrees = ExtraTreesClassifier(n_jobs=7, n_estimators=1000, max_features=13,\n",
    "                             min_samples_split=4)\n",
    "\n",
    "Xtrees.fit(X_train,y_train)\n",
    "\n",
    "XtreePreds = Xtrees.predict(X_test)\n",
    "\n",
    "print(accuracy_score(y_true,XtreePreds),roc_auc_score(y_true,XtreePreds))"
   ]
  },
  {
   "cell_type": "markdown",
   "metadata": {},
   "source": [
    "# 6. Bagging Classifier"
   ]
  },
  {
   "cell_type": "code",
   "execution_count": null,
   "metadata": {
    "ExecuteTime": {
     "end_time": "2016-12-14T23:35:31.346017",
     "start_time": "2016-12-14T23:35:22.932967"
    },
    "collapsed": false
   },
   "outputs": [],
   "source": [
    "Bags = BaggingClassifier(n_jobs=7, n_estimators=1000, max_features=13)\n",
    "\n",
    "Bags.fit(X_train,y_train)\n",
    "\n",
    "BagPreds = Bags.predict(X_test)\n",
    "\n",
    "print(accuracy_score(y_true,BagPreds),roc_auc_score(y_true,BagPreds))"
   ]
  },
  {
   "cell_type": "markdown",
   "metadata": {},
   "source": [
    "# 7. AdaBoostClassifier"
   ]
  },
  {
   "cell_type": "code",
   "execution_count": 53,
   "metadata": {
    "ExecuteTime": {
     "end_time": "2016-12-15T00:08:16.529249",
     "start_time": "2016-12-15T00:08:13.444431"
    },
    "collapsed": false
   },
   "outputs": [
    {
     "name": "stdout",
     "output_type": "stream",
     "text": [
      "0.749130500529 0.562243159608\n"
     ]
    }
   ],
   "source": [
    "Ada = AdaBoostClassifier(n_estimators=100)\n",
    "\n",
    "Ada.fit(X_train, y_train)\n",
    "\n",
    "Adapreds = Ada.predict(X_test)\n",
    "\n",
    "Ada.score(X_test,y_true)\n",
    "\n",
    "print(accuracy_score(y_true,Adapreds),roc_auc_score(y_true,Adapreds))"
   ]
  },
  {
   "cell_type": "markdown",
   "metadata": {},
   "source": [
    "# 8. MultiLayer Perceptron Classifier"
   ]
  },
  {
   "cell_type": "code",
   "execution_count": 23,
   "metadata": {
    "ExecuteTime": {
     "end_time": "2016-12-14T23:55:49.396641",
     "start_time": "2016-12-14T23:55:40.427373"
    },
    "collapsed": false
   },
   "outputs": [
    {
     "name": "stdout",
     "output_type": "stream",
     "text": [
      "Iteration 1, loss = 0.57894724\n",
      "Iteration 2, loss = 0.52620754\n",
      "Iteration 3, loss = 0.51628624\n",
      "Iteration 4, loss = 0.50928096\n",
      "Iteration 5, loss = 0.50456962\n",
      "Iteration 6, loss = 0.49939418\n",
      "Iteration 7, loss = 0.49446902\n",
      "Iteration 8, loss = 0.49169144\n",
      "Iteration 9, loss = 0.48743298\n",
      "Iteration 10, loss = 0.48428652\n",
      "Iteration 11, loss = 0.48184342\n",
      "Iteration 12, loss = 0.48121135\n",
      "Iteration 13, loss = 0.47855487\n",
      "Iteration 14, loss = 0.47465397\n",
      "Iteration 15, loss = 0.47373064\n",
      "Iteration 16, loss = 0.47230445\n",
      "Iteration 17, loss = 0.46872058\n",
      "Iteration 18, loss = 0.46704295\n",
      "Iteration 19, loss = 0.46481878\n",
      "Iteration 20, loss = 0.46579416\n",
      "Iteration 21, loss = 0.46130931\n",
      "Iteration 22, loss = 0.46107429\n",
      "Iteration 23, loss = 0.45884096\n",
      "Iteration 24, loss = 0.45792914\n",
      "Iteration 25, loss = 0.45539907\n",
      "Iteration 26, loss = 0.45534734\n",
      "Iteration 27, loss = 0.45716991\n",
      "Iteration 28, loss = 0.45190174\n",
      "Iteration 29, loss = 0.45003415\n",
      "Iteration 30, loss = 0.45147597\n",
      "Iteration 31, loss = 0.44893726\n",
      "Iteration 32, loss = 0.44803127\n",
      "Iteration 33, loss = 0.44652187\n",
      "Iteration 34, loss = 0.44546306\n",
      "Iteration 35, loss = 0.44295110\n",
      "Iteration 36, loss = 0.44590325\n",
      "Iteration 37, loss = 0.44340461\n",
      "Iteration 38, loss = 0.44102584\n",
      "Iteration 39, loss = 0.44093633\n",
      "Iteration 40, loss = 0.44243829\n",
      "Iteration 41, loss = 0.44028869\n",
      "Iteration 42, loss = 0.43933933\n",
      "Iteration 43, loss = 0.43775976\n",
      "Iteration 44, loss = 0.43628029\n",
      "Iteration 45, loss = 0.43687563\n",
      "Iteration 46, loss = 0.43534902\n",
      "Iteration 47, loss = 0.43370258\n",
      "Iteration 48, loss = 0.43333882\n",
      "Iteration 49, loss = 0.43379313\n",
      "Iteration 50, loss = 0.43299087\n",
      "Iteration 51, loss = 0.43371792\n",
      "Iteration 52, loss = 0.43241292\n",
      "Iteration 53, loss = 0.43331386\n",
      "Iteration 54, loss = 0.43161207\n",
      "Iteration 55, loss = 0.42951265\n",
      "Iteration 56, loss = 0.42892167\n",
      "Iteration 57, loss = 0.42774859\n",
      "Iteration 58, loss = 0.42774688\n",
      "Iteration 59, loss = 0.42666711\n",
      "Iteration 60, loss = 0.42609519\n",
      "Iteration 61, loss = 0.42518496\n",
      "Iteration 62, loss = 0.42493528\n",
      "Iteration 63, loss = 0.42373575\n",
      "Iteration 64, loss = 0.42499538\n",
      "Iteration 65, loss = 0.42374325\n",
      "Iteration 66, loss = 0.42347468\n",
      "Iteration 67, loss = 0.42236491\n",
      "Iteration 68, loss = 0.42265947\n",
      "Iteration 69, loss = 0.42070940\n",
      "Iteration 70, loss = 0.41956946\n",
      "Iteration 71, loss = 0.41978200\n",
      "Iteration 72, loss = 0.42065722\n",
      "Iteration 73, loss = 0.41976286\n",
      "Training loss did not improve more than tol=0.000100 for two consecutive epochs. Stopping.\n",
      "0.753213367609 0.615283119368\n"
     ]
    }
   ],
   "source": [
    "MLP = MLPClassifier(verbose=True)\n",
    "\n",
    "MLP.fit(X_train, y_train)\n",
    "\n",
    "MLPPreds = MLP.predict(X_test)\n",
    "\n",
    "print(accuracy_score(y_true,MLPPreds),roc_auc_score(y_true,MLPPreds))"
   ]
  },
  {
   "cell_type": "markdown",
   "metadata": {},
   "source": [
    "# 9. SGDClassifier"
   ]
  },
  {
   "cell_type": "code",
   "execution_count": null,
   "metadata": {
    "ExecuteTime": {
     "end_time": "2016-12-14T23:39:14.179223",
     "start_time": "2016-12-14T23:39:14.089705"
    },
    "collapsed": false
   },
   "outputs": [],
   "source": [
    "SGD = SGDClassifier(verbose=True, n_jobs=2)\n",
    "\n",
    "SGD.fit(X_train_transformed, y_train)\n",
    "\n",
    "SGDPreds = SGD.predict(X_test)\n",
    "\n",
    "print(SGD.score(X_test,y_true))\n",
    "\n",
    "print(accuracy_score(y_true,SGDPreds),roc_auc_score(y_true,SGDPreds))"
   ]
  },
  {
   "cell_type": "markdown",
   "metadata": {},
   "source": [
    "# 10. Naive Bayes"
   ]
  },
  {
   "cell_type": "code",
   "execution_count": null,
   "metadata": {
    "ExecuteTime": {
     "end_time": "2016-12-14T23:40:00.544095",
     "start_time": "2016-12-14T23:40:00.439717"
    },
    "collapsed": false
   },
   "outputs": [],
   "source": [
    "NB = GaussianNB()\n",
    "\n",
    "NB.fit(X_train, y_train)\n",
    "\n",
    "NBPreds = NB.predict(X_test)\n",
    "\n",
    "print(accuracy_score(y_true,NBPreds),roc_auc_score(y_true,NBPreds))"
   ]
  },
  {
   "cell_type": "markdown",
   "metadata": {},
   "source": [
    "# 11. knn"
   ]
  },
  {
   "cell_type": "code",
   "execution_count": 59,
   "metadata": {
    "ExecuteTime": {
     "end_time": "2016-12-15T00:15:20.252763",
     "start_time": "2016-12-15T00:14:50.995418"
    },
    "collapsed": false
   },
   "outputs": [
    {
     "name": "stdout",
     "output_type": "stream",
     "text": [
      "0.754423106003 0.63958689325\n"
     ]
    }
   ],
   "source": [
    "knn = KNeighborsClassifier(n_neighbors=3)\n",
    "knn.fit(X_train,y_train)\n",
    "knnpreds = knn.predict(X_test)\n",
    "print(accuracy_score(y_true,knnpreds),roc_auc_score(y_true,knnpreds))"
   ]
  },
  {
   "cell_type": "markdown",
   "metadata": {},
   "source": [
    "# 12. Decision Tree"
   ]
  },
  {
   "cell_type": "code",
   "execution_count": 52,
   "metadata": {
    "ExecuteTime": {
     "end_time": "2016-12-15T00:07:31.281281",
     "start_time": "2016-12-15T00:07:31.052429"
    },
    "collapsed": false
   },
   "outputs": [
    {
     "name": "stdout",
     "output_type": "stream",
     "text": [
      "0.75306215031 0.581975712695\n"
     ]
    }
   ],
   "source": [
    "dtree = tree.DecisionTreeClassifier(max_depth=10, min_samples_leaf=5)\n",
    "dtree.fit(X_train,y_train)\n",
    "dtreepreds = dtree.predict(X_test)\n",
    "print(accuracy_score(y_true,dtreepreds),roc_auc_score(y_true,dtreepreds))"
   ]
  },
  {
   "cell_type": "markdown",
   "metadata": {
    "ExecuteTime": {
     "end_time": "2016-12-15T00:09:23.130966",
     "start_time": "2016-12-15T00:09:23.128766"
    }
   },
   "source": [
    "# 13. Gradient Boosting Classifier"
   ]
  },
  {
   "cell_type": "code",
   "execution_count": 58,
   "metadata": {
    "ExecuteTime": {
     "end_time": "2016-12-15T00:11:55.210565",
     "start_time": "2016-12-15T00:10:51.303864"
    },
    "collapsed": false
   },
   "outputs": [
    {
     "name": "stdout",
     "output_type": "stream",
     "text": [
      "      Iter       Train Loss   Remaining Time \n",
      "         1           1.1362            1.19m\n",
      "         2           1.1259            1.17m\n",
      "         3           1.1175            1.17m\n",
      "         4           1.1106            1.18m\n",
      "         5           1.1048            1.19m\n",
      "         6           1.0998            1.18m\n",
      "         7           1.0956            1.18m\n",
      "         8           1.0915            1.16m\n",
      "         9           1.0882            1.16m\n",
      "        10           1.0852            1.16m\n",
      "        20           1.0603            1.14m\n",
      "        30           1.0450            1.16m\n",
      "        40           1.0339            1.15m\n",
      "        50           1.0257            1.10m\n",
      "        60           1.0188            1.05m\n",
      "        70           1.0129            1.03m\n",
      "        80           1.0079            1.01m\n",
      "        90           1.0026           59.72s\n",
      "       100           0.9990           57.58s\n",
      "       200           0.9622           49.56s\n",
      "       300           0.9339           43.29s\n",
      "       400           0.9082           37.65s\n",
      "       500           0.8845           31.04s\n",
      "       600           0.8610           25.39s\n",
      "       700           0.8409           19.07s\n",
      "       800           0.8190           12.68s\n",
      "       900           0.7974            6.34s\n",
      "      1000           0.7800            0.00s\n",
      "0.766066838046 0.614477734245\n"
     ]
    }
   ],
   "source": [
    "GBT = GradientBoostingClassifier(verbose=True, n_estimators=1000)\n",
    "GBT.fit(X_train,y_train)\n",
    "GBTpreds = GBT.predict(X_test)\n",
    "print(accuracy_score(y_true,GBTpreds),roc_auc_score(y_true,GBTpreds))"
   ]
  },
  {
   "cell_type": "code",
   "execution_count": null,
   "metadata": {
    "collapsed": true
   },
   "outputs": [],
   "source": []
  }
 ],
 "metadata": {
  "anaconda-cloud": {},
  "kernelspec": {
   "display_name": "Python [conda env:python3]",
   "language": "python",
   "name": "conda-env-python3-py"
  },
  "language_info": {
   "codemirror_mode": {
    "name": "ipython",
    "version": 3
   },
   "file_extension": ".py",
   "mimetype": "text/x-python",
   "name": "python",
   "nbconvert_exporter": "python",
   "pygments_lexer": "ipython3",
   "version": "3.5.2"
  }
 },
 "nbformat": 4,
 "nbformat_minor": 0
}
