{
 "cells": [
  {
   "cell_type": "code",
   "execution_count": 1,
   "metadata": {
    "ExecuteTime": {
     "end_time": "2016-12-06T16:24:41.226703",
     "start_time": "2016-12-06T16:24:38.405238"
    },
    "collapsed": false
   },
   "outputs": [],
   "source": [
    "import pandas as pd\n",
    "import numpy as np\n",
    "from os.path import join\n",
    "import re\n",
    "from multiprocessing import Pool\n",
    "import pickle"
   ]
  },
  {
   "cell_type": "markdown",
   "metadata": {},
   "source": [
    "# 1. Load variables and dataframe"
   ]
  },
  {
   "cell_type": "code",
   "execution_count": 2,
   "metadata": {
    "ExecuteTime": {
     "end_time": "2016-12-06T16:24:41.232758",
     "start_time": "2016-12-06T16:24:41.228391"
    },
    "collapsed": false
   },
   "outputs": [],
   "source": [
    "input_file = join('/Users', 'Toavina', 'githubdata',\n",
    "                  '7.regetting_gh_events_data', '3.ghevents_df',\n",
    "                  'hnusers_ghevents_df.pkl')\n",
    "\n",
    "save_folder = join('/Users', 'Toavina', 'githubdata',\n",
    "                   '8.transposing_gh_events', '1.saved_df')\n",
    "\n",
    "save_filename = 'gh_events_bymonthusertype_df.pkl'"
   ]
  },
  {
   "cell_type": "code",
   "execution_count": 3,
   "metadata": {
    "ExecuteTime": {
     "end_time": "2016-12-06T16:24:42.235438",
     "start_time": "2016-12-06T16:24:41.234388"
    },
    "collapsed": true
   },
   "outputs": [],
   "source": [
    "ghevents_df = pickle.load(open(input_file, 'rb'))"
   ]
  },
  {
   "cell_type": "code",
   "execution_count": 5,
   "metadata": {
    "ExecuteTime": {
     "end_time": "2016-12-02T15:43:13.619555",
     "start_time": "2016-12-02T15:43:13.439966"
    },
    "collapsed": false
   },
   "outputs": [
    {
     "name": "stdout",
     "output_type": "stream",
     "text": [
      "Setting relevant columns as categorical, boolean and date columns to save memory and ease manipulation\n"
     ]
    }
   ],
   "source": [
    "print(\n",
    "    'Setting relevant columns as categorical, boolean and date columns to save memory and ease manipulation'\n",
    ")\n",
    "ghevents_df['type'] = ghevents_df['type'].astype('category')\n",
    "ghevents_df['own_repo'] = ghevents_df['own_repo'].astype('bool')\n",
    "ghevents_df['org_event'] = ghevents_df['org_event'].astype('bool')\n",
    "\n",
    "\n",
    "def amend_date_col(date_col):\n",
    "    \"\"\"Removes the UTC string for a date column so it can be converted to numpy datetime\"\"\"\n",
    "\n",
    "    date_col = re.sub(' UTC', '', date_col)\n",
    "\n",
    "    return date_col\n",
    "\n",
    "\n",
    "ghevents_df['created_at'] = ghevents_df['created_at'].apply(\n",
    "    amend_date_col).astype('datetime64')"
   ]
  },
  {
   "cell_type": "code",
   "execution_count": 46,
   "metadata": {
    "ExecuteTime": {
     "end_time": "2016-12-02T16:14:42.124152",
     "start_time": "2016-12-02T16:14:38.627337"
    },
    "collapsed": false
   },
   "outputs": [],
   "source": [
    "print('Generating pivot table of event counts by user, type and month')\n",
    "ghevents_pivoted = ghevents_df.groupby([\n",
    "    'actor_login', 'type', pd.Grouper(\n",
    "        freq='1M', key='created_at')\n",
    "]).count().unstack('actor_login').transpose().loc['created_at']\n",
    "\n",
    "# Alternative command\n",
    "# ghevents_df.groupby(['actor_login','type','year_month_created']).count().unstack('actor_login').transpose().loc['created_at']"
   ]
  },
  {
   "cell_type": "code",
   "execution_count": 47,
   "metadata": {
    "ExecuteTime": {
     "end_time": "2016-12-02T16:14:44.197110",
     "start_time": "2016-12-02T16:14:44.186297"
    },
    "collapsed": false
   },
   "outputs": [],
   "source": [
    "print('Filling NAs as zero and transforming counds to integers')\n",
    "ghevents_pivoted.fillna(0, inplace=True)\n",
    "ghevents_pivoted = ghevents_pivoted.astype('int')"
   ]
  },
  {
   "cell_type": "code",
   "execution_count": 59,
   "metadata": {
    "ExecuteTime": {
     "end_time": "2016-12-02T16:24:54.934115",
     "start_time": "2016-12-02T16:24:54.774748"
    },
    "collapsed": false
   },
   "outputs": [
    {
     "name": "stdout",
     "output_type": "stream",
     "text": [
      "Saving dataframe to /Users/Toavina/githubdata/8.transposing_gh_events/1.saved_df/gh_events_bymonthusertype_df.pkl\n"
     ]
    }
   ],
   "source": [
    "print('Saving dataframe to ' + join(save_folder,save_filename))\n",
    "pickle.dump(ghevents_pivoted, open(join(save_folder,save_filename),'wb'))"
   ]
  },
  {
   "cell_type": "code",
   "execution_count": null,
   "metadata": {
    "collapsed": true
   },
   "outputs": [],
   "source": []
  }
 ],
 "metadata": {
  "anaconda-cloud": {},
  "kernelspec": {
   "display_name": "Python [conda env:python3]",
   "language": "python",
   "name": "conda-env-python3-py"
  },
  "language_info": {
   "codemirror_mode": {
    "name": "ipython",
    "version": 3
   },
   "file_extension": ".py",
   "mimetype": "text/x-python",
   "name": "python",
   "nbconvert_exporter": "python",
   "pygments_lexer": "ipython3",
   "version": "3.5.2"
  }
 },
 "nbformat": 4,
 "nbformat_minor": 0
}
