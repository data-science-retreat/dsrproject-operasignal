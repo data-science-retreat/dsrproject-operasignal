{
 "cells": [
  {
   "cell_type": "markdown",
   "metadata": {},
   "source": [
    "# 1. Benchmarking listing files in a folder"
   ]
  },
  {
   "cell_type": "code",
   "execution_count": 65,
   "metadata": {
    "collapsed": true
   },
   "outputs": [],
   "source": [
    "from os import listdir\n",
    "from os.path import join\n",
    "import pandas as pd"
   ]
  },
  {
   "cell_type": "code",
   "execution_count": 50,
   "metadata": {
    "collapsed": false
   },
   "outputs": [],
   "source": [
    "folder = 'a.data_folder'"
   ]
  },
  {
   "cell_type": "code",
   "execution_count": 57,
   "metadata": {
    "collapsed": false
   },
   "outputs": [
    {
     "name": "stdout",
     "output_type": "stream",
     "text": [
      "1000 loops, best of 3: 992 µs per loop\n"
     ]
    }
   ],
   "source": [
    "#1. list comprehension\n",
    "%timeit filelist = [f for f in listdir(folder)]"
   ]
  },
  {
   "cell_type": "code",
   "execution_count": 71,
   "metadata": {
    "collapsed": true
   },
   "outputs": [],
   "source": [
    "filelist = [f for f in listdir(folder)]"
   ]
  },
  {
   "cell_type": "code",
   "execution_count": 52,
   "metadata": {
    "collapsed": false
   },
   "outputs": [
    {
     "name": "stdout",
     "output_type": "stream",
     "text": [
      "1000 loops, best of 3: 1.12 ms per loop\n"
     ]
    }
   ],
   "source": [
    "#2. function\n",
    "def list_files_in_folder(folder):\n",
    "    filelist = []\n",
    "    for file in listdir(folder):\n",
    "        filelist.append(file)\n",
    "    return filelist\n",
    "\n",
    "%timeit filelist = list_files_in_folder(folder)"
   ]
  },
  {
   "cell_type": "code",
   "execution_count": 35,
   "metadata": {
    "collapsed": false
   },
   "outputs": [
    {
     "name": "stdout",
     "output_type": "stream",
     "text": [
      "The Cython extension is already loaded. To reload it, use:\n",
      "  %reload_ext Cython\n"
     ]
    }
   ],
   "source": [
    "#3. Cython\n",
    "%load_ext Cython"
   ]
  },
  {
   "cell_type": "code",
   "execution_count": 53,
   "metadata": {
    "collapsed": false
   },
   "outputs": [],
   "source": [
    "%%cython\n",
    "from os import listdir\n",
    "\n",
    "cdef list_files_in_folder(str folder):\n",
    "    cdef str file\n",
    "    cdef list filelist\n",
    "    filelist = []\n",
    "    for file in listdir(folder):\n",
    "        filelist.append(file)\n",
    "    return filelist"
   ]
  },
  {
   "cell_type": "code",
   "execution_count": 54,
   "metadata": {
    "collapsed": false
   },
   "outputs": [
    {
     "name": "stdout",
     "output_type": "stream",
     "text": [
      "1000 loops, best of 3: 1.08 ms per loop\n"
     ]
    }
   ],
   "source": [
    "%timeit filelist = list_files_in_folder(folder)"
   ]
  },
  {
   "cell_type": "code",
   "execution_count": 61,
   "metadata": {
    "collapsed": false
   },
   "outputs": [
    {
     "name": "stdout",
     "output_type": "stream",
     "text": [
      "1 loop, best of 3: 191 ms per loop\n"
     ]
    }
   ],
   "source": [
    "#4. Joblib parallel\n",
    "from joblib import Parallel, delayed\n",
    "\n",
    "def joblib_list_files(folder):\n",
    "    return [f for f in listdir(folder)]\n",
    "\n",
    "def x(a):\n",
    "    return a\n",
    "\n",
    "%timeit joblib_filelist = Parallel(n_jobs=8)(delayed(x)(a) for a in listdir(folder)) "
   ]
  },
  {
   "cell_type": "markdown",
   "metadata": {},
   "source": [
    "# 2. Create an aggregate dataframe from json files"
   ]
  },
  {
   "cell_type": "code",
   "execution_count": 92,
   "metadata": {
    "collapsed": true
   },
   "outputs": [],
   "source": [
    "def json_to_df(file,folder):\n",
    "    \"\"\"Transform a json file into a Pandas dataframe row\"\"\"\n",
    "    row = pd.read_json(folder+'/'+ file,\n",
    "    orient='index',\n",
    "    typ='series',\n",
    "    dtype=True).to_frame().transpose()\n",
    "    return row"
   ]
  },
  {
   "cell_type": "code",
   "execution_count": 73,
   "metadata": {
    "collapsed": false
   },
   "outputs": [
    {
     "name": "stdout",
     "output_type": "stream",
     "text": [
      "1 loop, best of 3: 3.44 s per loop\n"
     ]
    }
   ],
   "source": [
    "#1. list comprehension\n",
    "\n",
    "%timeit frames = [json_to_df(f, folder) for f in filelist]"
   ]
  },
  {
   "cell_type": "code",
   "execution_count": 96,
   "metadata": {
    "collapsed": false
   },
   "outputs": [
    {
     "name": "stdout",
     "output_type": "stream",
     "text": [
      "1 loop, best of 3: 1.25 s per loop\n"
     ]
    }
   ],
   "source": [
    "#2. Parallel\n",
    "\n",
    "def create_frames(file,folder):\n",
    "    return json_to_df(file,folder)\n",
    "\n",
    "%timeit frames1 = Parallel(n_jobs=7)(delayed(create_frames)(file,folder) for file in filelist)"
   ]
  },
  {
   "cell_type": "code",
   "execution_count": 100,
   "metadata": {
    "collapsed": false
   },
   "outputs": [],
   "source": [
    "frames1 = Parallel(n_jobs=8)(delayed(create_frames)(file,folder) for file in filelist)"
   ]
  },
  {
   "cell_type": "code",
   "execution_count": 108,
   "metadata": {
    "collapsed": false
   },
   "outputs": [
    {
     "name": "stderr",
     "output_type": "stream",
     "text": [
      "100%|██████████| 1.14K/1.14K [00:00<00:00, 3.63Kit/s]\n",
      "1135it [00:00, 207720.35it/s]\n",
      "100%|██████████| 1.14K/1.14K [00:00<00:00, 1.24Kit/s]\n",
      "1135it [00:00, 208676.41it/s]\n",
      "100%|██████████| 1.14K/1.14K [00:00<00:00, 2.64Kit/s]\n",
      "1135it [00:00, 184281.15it/s]\n",
      "100%|██████████| 1.14K/1.14K [00:00<00:00, 1.73Kit/s]\n",
      "1135it [00:00, 180043.68it/s]"
     ]
    },
    {
     "name": "stdout",
     "output_type": "stream",
     "text": [
      "1 loop, best of 3: 1.49 s per loop\n"
     ]
    },
    {
     "name": "stderr",
     "output_type": "stream",
     "text": [
      "\n"
     ]
    }
   ],
   "source": [
    "#3. Parallel process\n",
    "from parallel_process import parallel_process\n",
    "\n",
    "def create_frames(file):\n",
    "    global folder\n",
    "    return json_to_df(file,folder)\n",
    "\n",
    "%timeit frames2 = parallel_process([file for file in filelist],create_frames, n_jobs=7)"
   ]
  },
  {
   "cell_type": "markdown",
   "metadata": {},
   "source": [
    "# Conclusion"
   ]
  },
  {
   "cell_type": "markdown",
   "metadata": {},
   "source": [
    "* Stick to list comprehension for first algorithm\n",
    "* Parallelize second algorithm - some overhead from tqdm, but at least have visibility on timing\n"
   ]
  }
 ],
 "metadata": {
  "anaconda-cloud": {},
  "kernelspec": {
   "display_name": "Python [conda env:python3]",
   "language": "python",
   "name": "conda-env-python3-py"
  },
  "language_info": {
   "codemirror_mode": {
    "name": "ipython",
    "version": 3
   },
   "file_extension": ".py",
   "mimetype": "text/x-python",
   "name": "python",
   "nbconvert_exporter": "python",
   "pygments_lexer": "ipython3",
   "version": "3.5.2"
  }
 },
 "nbformat": 4,
 "nbformat_minor": 0
}
