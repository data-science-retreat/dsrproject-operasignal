{
 "cells": [
  {
   "cell_type": "code",
   "execution_count": 2,
   "metadata": {
    "ExecuteTime": {
     "end_time": "2016-12-02T10:27:06.608608",
     "start_time": "2016-12-02T10:27:06.604404"
    },
    "collapsed": true
   },
   "outputs": [],
   "source": [
    "import pickle\n",
    "import pandas as pd\n",
    "import numpy as np\n",
    "from os.path import join"
   ]
  },
  {
   "cell_type": "markdown",
   "metadata": {},
   "source": [
    "# 1. Load variables and input dataframe"
   ]
  },
  {
   "cell_type": "code",
   "execution_count": 28,
   "metadata": {
    "ExecuteTime": {
     "end_time": "2016-12-02T10:42:01.542033",
     "start_time": "2016-12-02T10:42:01.536164"
    },
    "collapsed": true
   },
   "outputs": [],
   "source": [
    "input_file = join('/Users', 'Toavina', 'githubdata',\n",
    "                  '6.combining_hn_and_ghusers', '3.df_w_ghuser_data',\n",
    "                  'agg_df.pkl')\n",
    "savefile_path = join('/Users', 'Toavina', 'githubdata',\n",
    "                     '7.regetting_gh_events_data', '1.users_to_query')\n",
    "savefile_name = 'users_to_query.csv'"
   ]
  },
  {
   "cell_type": "code",
   "execution_count": 21,
   "metadata": {
    "ExecuteTime": {
     "end_time": "2016-12-02T10:38:04.783849",
     "start_time": "2016-12-02T10:38:04.737747"
    },
    "collapsed": false
   },
   "outputs": [
    {
     "name": "stdout",
     "output_type": "stream",
     "text": [
      "Loading dataframe with relevant Github users to query\n"
     ]
    }
   ],
   "source": [
    "print('Loading dataframe with relevant Github users to query')\n",
    "agg_df = pickle.load(open(input_file, 'rb'))"
   ]
  },
  {
   "cell_type": "code",
   "execution_count": 22,
   "metadata": {
    "ExecuteTime": {
     "end_time": "2016-12-02T10:38:04.886597",
     "start_time": "2016-12-02T10:38:04.881517"
    },
    "collapsed": false
   },
   "outputs": [
    {
     "name": "stdout",
     "output_type": "stream",
     "text": [
      "Creating slice of unique users\n"
     ]
    }
   ],
   "source": [
    "print('Creating slice of unique users')\n",
    "users_df = agg_df.login\n",
    "users_df = users_df.drop_duplicates()"
   ]
  },
  {
   "cell_type": "code",
   "execution_count": 29,
   "metadata": {
    "ExecuteTime": {
     "end_time": "2016-12-02T10:42:10.979158",
     "start_time": "2016-12-02T10:42:10.965317"
    },
    "collapsed": false
   },
   "outputs": [
    {
     "name": "stdout",
     "output_type": "stream",
     "text": [
      "Saving file to CSV\n"
     ]
    }
   ],
   "source": [
    "print('Saving file to CSV')\n",
    "users_df.to_csv(join(savefile_path, savefile_name), index=False, sep=',')"
   ]
  },
  {
   "cell_type": "code",
   "execution_count": 30,
   "metadata": {
    "ExecuteTime": {
     "end_time": "2016-12-02T10:42:33.188315",
     "start_time": "2016-12-02T10:42:33.185127"
    },
    "collapsed": false
   },
   "outputs": [
    {
     "name": "stdout",
     "output_type": "stream",
     "text": [
      "Process completed\n"
     ]
    }
   ],
   "source": [
    "print('Process completed')"
   ]
  }
 ],
 "metadata": {
  "anaconda-cloud": {},
  "kernelspec": {
   "display_name": "Python [conda env:python3]",
   "language": "python",
   "name": "conda-env-python3-py"
  },
  "language_info": {
   "codemirror_mode": {
    "name": "ipython",
    "version": 3
   },
   "file_extension": ".py",
   "mimetype": "text/x-python",
   "name": "python",
   "nbconvert_exporter": "python",
   "pygments_lexer": "ipython3",
   "version": "3.5.2"
  }
 },
 "nbformat": 4,
 "nbformat_minor": 0
}
